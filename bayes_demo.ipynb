{
 "cells": [
  {
   "cell_type": "markdown",
   "metadata": {},
   "source": [
    "# bayesian analysis"
   ]
  },
  {
   "cell_type": "code",
   "execution_count": 220,
   "metadata": {
    "collapsed": true
   },
   "outputs": [],
   "source": [
    "import random"
   ]
  },
  {
   "cell_type": "code",
   "execution_count": 224,
   "metadata": {
    "collapsed": false
   },
   "outputs": [],
   "source": [
    "results = ['h', 't']\n",
    "\n",
    "all_coins = {\n",
    "    'a': {\n",
    "        'p_heads': 0.5,\n",
    "        'count': 2,\n",
    "    },\n",
    "    'b': {\n",
    "        'p_heads': 0.6,\n",
    "        'count': 1,\n",
    "    },\n",
    "    'c': {\n",
    "        'p_heads': 0.9,\n",
    "        'count': 1,\n",
    "    },\n",
    "    'd': {\n",
    "        'p_heads': 0.3,\n",
    "        'count': 5,\n",
    "    },\n",
    "    'e': {\n",
    "        'p_heads': 0.8,\n",
    "        'count': 4,\n",
    "    },\n",
    "    'f': {\n",
    "        'p_heads': 0.7,\n",
    "        'count': 9,\n",
    "    },\n",
    "}\n",
    "\n",
    "\n",
    "coins = all_coins.keys()\n",
    "\n",
    "def prob_heads(coin):\n",
    "    return all_coins[coin]['p_heads']\n",
    "\n",
    "def prob_tails(coin):\n",
    "    return 1 - prob_heads(coin)\n",
    "\n",
    "def prob(result, coin):\n",
    "    if result == 'h':\n",
    "        return prob_heads(coin)\n",
    "    elif result == 't':\n",
    "        return prob_tails(coin)\n",
    "\n",
    "def num_coins():\n",
    "    return sum([all_coins[coin]['count'] for coin in coins])\n",
    "    \n",
    "def prob_pick_from_drawer(coin):\n",
    "    return round(\n",
    "        float(all_coins[coin]['count']) / num_coins()\n",
    "    , 4)\n",
    "\n",
    "def flip(coin):\n",
    "    r = random.uniform(0,1)\n",
    "    if r < prob_heads(coin):\n",
    "        return 'h'\n",
    "    else:\n",
    "        return 't'\n",
    "    \n",
    "def pick_from_drawer():\n",
    "    r = random.uniform(0,1)\n",
    "    idx = 0\n",
    "    for coin in coins:\n",
    "        p = prob_pick_from_drawer(coin)\n",
    "        if r < idx + p:\n",
    "            return coin\n",
    "        else:\n",
    "            idx += p\n",
    "            \n",
    "def tot_prob(result):\n",
    "    return sum([prob(result, coin)*prob_pick_from_drawer(coin) for coin in coins])\n",
    "            \n",
    "def update_prior(prior, result):\n",
    "    \n",
    "    prior = {\n",
    "        coin: prob(result, coin) * prior[coin] / tot_prob(result)\n",
    "        for coin in coins\n",
    "    }\n",
    "    \n",
    "    prior = {\n",
    "        coin: p/sum(prior.values()) \n",
    "        for coin, p in prior.iteritems()\n",
    "    }\n",
    "\n",
    "    return prior"
   ]
  },
  {
   "cell_type": "code",
   "execution_count": 233,
   "metadata": {
    "collapsed": false
   },
   "outputs": [
    {
     "name": "stdout",
     "output_type": "stream",
     "text": [
      "coin: a\n",
      "  prob h: 0.5\n",
      "  prob t: 0.5\n",
      "  prob drawer: 0.091\n",
      "coin: b\n",
      "  prob h: 0.6\n",
      "  prob t: 0.4\n",
      "  prob drawer: 0.045\n",
      "coin: c\n",
      "  prob h: 0.9\n",
      "  prob t: 0.1\n",
      "  prob drawer: 0.045\n",
      "coin: d\n",
      "  prob h: 0.3\n",
      "  prob t: 0.7\n",
      "  prob drawer: 0.227\n",
      "coin: e\n",
      "  prob h: 0.8\n",
      "  prob t: 0.2\n",
      "  prob drawer: 0.182\n",
      "coin: f\n",
      "  prob h: 0.7\n",
      "  prob t: 0.3\n",
      "  prob drawer: 0.409\n",
      "simulation frequencies (10000 trials)\n",
      "  a: 0.503\n",
      "  b: 0.598\n",
      "  c: 0.902\n",
      "  d: 0.295\n",
      "  e: 0.801\n",
      "  f: 0.707\n",
      "total probs\n",
      "  h: 0.614\n",
      "  t: 0.386\n",
      "  h+t: 1.0\n",
      "  drawer: 1.0\n"
     ]
    }
   ],
   "source": [
    "# test out our stuff so we know this is implemented correctly\n",
    "for coin in sorted(coins):\n",
    "    print 'coin: {}'.format(coin)\n",
    "    for result in results:\n",
    "        print '  prob {}: {}'.format(result, prob(result, coin))\n",
    "    print '  prob drawer: {}'.format(round(prob_pick_from_drawer(coin), 3))\n",
    "    \n",
    "# flip each coin 10000x to check results\n",
    "flips = {coin: 0 for coin in coins}\n",
    "trials = 10000\n",
    "for i in range(trials):\n",
    "    for coin in coins:\n",
    "        result = flip(coin)\n",
    "        if result == 'h':\n",
    "            flips[coin] += 1\n",
    "\n",
    "print 'simulation frequencies ({} trials)'.format(trials)\n",
    "for coin in sorted(coins):\n",
    "    print '  {}: {}'.format(coin, round(float(flips[coin])/trials,3))\n",
    "    \n",
    "print 'total probs'\n",
    "for result in results:\n",
    "    p = round(tot_prob(result), 3)\n",
    "    print '  {}: {}'.format(result, p)\n",
    "print '  h+t: {}'.format(round(sum(tot_prob(result) for result in results)))\n",
    "print '  drawer: {}'.format(round(sum([prob_pick_from_drawer(coin) for coin in coins]), 3))"
   ]
  },
  {
   "cell_type": "code",
   "execution_count": 236,
   "metadata": {
    "collapsed": false
   },
   "outputs": [
    {
     "name": "stdout",
     "output_type": "stream",
     "text": [
      "starting prior\n",
      "  a: 0.0909\n",
      "  b: 0.0455\n",
      "  c: 0.0455\n",
      "  d: 0.2273\n",
      "  e: 0.1818\n",
      "  f: 0.4091\n",
      "trials: 10000\n",
      "actual coin: d\n",
      "flip results\n",
      "  h: 2983 (0.298)\n",
      "  t: 7017 (0.702)\n",
      "{'h': 0.2983, 't': 0.7017}\n",
      "resulting prior\n",
      "  a: 0.0\n",
      "  b: 0.0\n",
      "  c: 0.0\n",
      "  d: 1.0\n",
      "  e: 0.0\n",
      "  f: 0.0\n",
      "best guess: d\n"
     ]
    }
   ],
   "source": [
    "# run experiment!\n",
    "\n",
    "# establish prior\n",
    "prior = {coin: prob_pick_from_drawer(coin) for coin in coins}\n",
    "print 'starting prior'\n",
    "for coin in sorted(prior.keys()):\n",
    "    print '  {}: {}'.format(coin, prior[coin])\n",
    "\n",
    "# pick one coin\n",
    "new_coin = pick_from_drawer()\n",
    "\n",
    "trials = 10000\n",
    "print 'trials: {}'.format(trials)\n",
    "print 'actual coin: {}'.format(new_coin)\n",
    "\n",
    "# flip it a bunch of times\n",
    "flip_results = {result: 0 for result in results}\n",
    "for i in range(trials):\n",
    "    result = flip(new_coin)\n",
    "    flip_results[result] += 1\n",
    "    prior = update_prior(prior, result)\n",
    "\n",
    "print 'flip results'\n",
    "for r, count in flip_results.iteritems():\n",
    "    print '  {}: {} ({})'.format(r, count, format(round(float(count)/trials, 3)))\n",
    "\n",
    "print 'resulting prior'\n",
    "for coin in sorted(prior.keys()):\n",
    "    print '  {}: {}'.format(coin, round(prior[coin],3))\n",
    "\n",
    "print 'best guess: {}'.format([c for c,p in prior.iteritems() if p == max(prior.values())][0])"
   ]
  },
  {
   "cell_type": "code",
   "execution_count": null,
   "metadata": {
    "collapsed": true
   },
   "outputs": [],
   "source": []
  },
  {
   "cell_type": "code",
   "execution_count": null,
   "metadata": {
    "collapsed": true
   },
   "outputs": [],
   "source": []
  }
 ],
 "metadata": {
  "kernelspec": {
   "display_name": "Python 2",
   "language": "python",
   "name": "python2"
  },
  "language_info": {
   "codemirror_mode": {
    "name": "ipython",
    "version": 2
   },
   "file_extension": ".py",
   "mimetype": "text/x-python",
   "name": "python",
   "nbconvert_exporter": "python",
   "pygments_lexer": "ipython2",
   "version": "2.7.10"
  }
 },
 "nbformat": 4,
 "nbformat_minor": 0
}
