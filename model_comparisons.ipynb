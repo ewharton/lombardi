{
 "cells": [
  {
   "cell_type": "code",
   "execution_count": 4,
   "metadata": {
    "collapsed": true
   },
   "outputs": [],
   "source": [
    "import math\n",
    "import matplotlib.pyplot as plt\n",
    "import petl\n",
    "import psycopg2\n",
    "\n",
    "from lombardi import bayes\n",
    "\n",
    "# big inline graphs by default\n",
    "%matplotlib inline\n",
    "plt.rcParams['figure.figsize'] = (20.0, 10.0)\n",
    "\n",
    "# suppress bullshit scipy warnings\n",
    "import warnings\n",
    "warnings.filterwarnings(action=\"ignore\", module=\"scipy\", message=\"^internal gelsd\")\n",
    "\n",
    "# global connection for db\n",
    "conn = psycopg2.connect('dbname=nfldb')"
   ]
  },
  {
   "cell_type": "code",
   "execution_count": 43,
   "metadata": {
    "collapsed": true
   },
   "outputs": [],
   "source": [
    "seasons = petl.fromcsv('seasons.csv').convert('avg_tds', float)\n",
    "games = petl.fromcsv('games.csv').convert('tds', int)\n",
    "bucket_data = petl.fromcsv('bucket_data.csv').convert('prob', float)\n",
    "bucket_td_data = petl.fromcsv('bucket_td_data.csv').convert({'tds': int, 'prob': float})"
   ]
  },
  {
   "cell_type": "code",
   "execution_count": 44,
   "metadata": {
    "collapsed": true
   },
   "outputs": [],
   "source": [
    "bucket_probs_list = petl.dicts(bucket_data)\n",
    "bucket_probs_dict = {r['bucket']: r['prob'] for r in bucket_probs_list}\n",
    "\n",
    "bucket_td_probs_list = petl.dicts(bucket_td_data)\n",
    "bucket_td_probs_dict = {r['bucket']: None for r in bucket_td_probs_list}\n",
    "for b in bucket_td_probs_dict.keys():\n",
    "    bucket_td_probs_dict[b] = bayes.Pdf({\n",
    "        r['tds']: r['prob']\n",
    "        for r in bucket_td_probs_list\n",
    "        if r['bucket'] == b\n",
    "    })"
   ]
  },
  {
   "cell_type": "code",
   "execution_count": 45,
   "metadata": {},
   "outputs": [],
   "source": [
    "seasons_list = petl.dicts(seasons)"
   ]
  },
  {
   "cell_type": "code",
   "execution_count": 46,
   "metadata": {},
   "outputs": [
    {
     "data": {
      "text/plain": [
       "{'avg_tds': 1.88,\n",
       " 'bucket': 'ok',\n",
       " 'bucket_num': '3',\n",
       " 'full_name': 'Aaron Rodgers',\n",
       " 'year': '2009'}"
      ]
     },
     "execution_count": 46,
     "metadata": {},
     "output_type": "execute_result"
    }
   ],
   "source": [
    "seasons_list[0]"
   ]
  },
  {
   "cell_type": "code",
   "execution_count": 47,
   "metadata": {},
   "outputs": [
    {
     "name": "stdout",
     "output_type": "stream",
     "text": [
      "2009 Aaron Rodgers\n",
      "2009 Carson Palmer\n",
      "2009 Eli Manning\n",
      "2009 Joe Flacco\n",
      "2009 Matt Schaub\n",
      "2009 Philip Rivers\n",
      "2009 Tom Brady\n",
      "2010 Carson Palmer\n",
      "2010 Drew Brees\n",
      "2010 Eli Manning\n",
      "2010 Joe Flacco\n",
      "2010 Matt Ryan\n",
      "2010 Matt Schaub\n",
      "2010 Philip Rivers\n",
      "2010 Sam Bradford\n",
      "2010 Tom Brady\n",
      "2011 Alex Smith\n",
      "2011 Andy Dalton\n",
      "2011 Cam Newton\n",
      "2011 Drew Brees\n",
      "2011 Eli Manning\n",
      "2011 Joe Flacco\n",
      "2011 Mark Sanchez\n",
      "2011 Matt Ryan\n",
      "2011 Matthew Stafford\n",
      "2011 Philip Rivers\n",
      "2011 Ryan Fitzpatrick\n",
      "2011 Tom Brady\n",
      "2012 Aaron Rodgers\n",
      "2012 Andrew Luck\n",
      "2012 Andy Dalton\n",
      "2012 Cam Newton\n",
      "2012 Drew Brees\n",
      "2012 Eli Manning\n",
      "2012 Joe Flacco\n",
      "2012 Matt Ryan\n",
      "2012 Matt Schaub\n",
      "2012 Matthew Stafford\n",
      "2012 Philip Rivers\n",
      "2012 Russell Wilson\n",
      "2012 Ryan Fitzpatrick\n",
      "2012 Ryan Tannehill\n",
      "2012 Sam Bradford\n",
      "2012 Tom Brady\n",
      "2013 Andrew Luck\n",
      "2013 Andy Dalton\n",
      "2013 Ben Roethlisberger\n",
      "2013 Cam Newton\n",
      "2013 Carson Palmer\n",
      "2013 Drew Brees\n",
      "2013 Eli Manning\n",
      "2013 Geno Smith\n",
      "2013 Joe Flacco\n",
      "2013 Matt Ryan\n",
      "2013 Matthew Stafford\n",
      "2013 Philip Rivers\n",
      "2013 Russell Wilson\n",
      "2013 Ryan Tannehill\n",
      "2013 Tom Brady\n",
      "2014 Aaron Rodgers\n",
      "2014 Andrew Luck\n",
      "2014 Andy Dalton\n",
      "2014 Ben Roethlisberger\n",
      "2014 Derek Carr\n",
      "2014 Drew Brees\n",
      "2014 Eli Manning\n",
      "2014 Joe Flacco\n",
      "2014 Matt Ryan\n",
      "2014 Matthew Stafford\n",
      "2014 Philip Rivers\n",
      "2014 Russell Wilson\n",
      "2014 Ryan Tannehill\n",
      "2014 Tom Brady\n",
      "2015 Aaron Rodgers\n",
      "2015 Alex Smith\n",
      "2015 Blake Bortles\n",
      "2015 Cam Newton\n",
      "2015 Carson Palmer\n",
      "2015 Derek Carr\n",
      "2015 Eli Manning\n",
      "2015 Jameis Winston\n",
      "2015 Kirk Cousins\n",
      "2015 Matt Ryan\n",
      "2015 Matthew Stafford\n",
      "2015 Philip Rivers\n",
      "2015 Russell Wilson\n",
      "2015 Ryan Fitzpatrick\n",
      "2015 Ryan Tannehill\n",
      "2015 Teddy Bridgewater\n",
      "2015 Tom Brady\n"
     ]
    }
   ],
   "source": [
    "runs = []\n",
    "\n",
    "for s in seasons_list:\n",
    "    \n",
    "    print(s['year'], s['full_name'])\n",
    "    \n",
    "    # list of actual tds\n",
    "    tds = list(games.selecteq('full_name', s['full_name']).selecteq('year', s['year'])['tds'])\n",
    "    \n",
    "    dist = bayes.DiscreteBayes(\n",
    "        prior=bayes.Pdf(dict(bucket_probs_dict)),\n",
    "        likelihoods=dict(bucket_td_probs_dict),\n",
    "    )\n",
    "    \n",
    "    results = []\n",
    "\n",
    "    # pre-season\n",
    "    results.append({\n",
    "        'prior': dict(dist.prior.probs),\n",
    "        'posterior_predictive': list(dist.posterior_predictive().probs.values()),\n",
    "    })\n",
    "\n",
    "    # track bayesian results week by week\n",
    "    for num_tds in tds:\n",
    "        # given number of tds this week, update our prior\n",
    "        dist.update_prior(num_tds)\n",
    "        # store results\n",
    "        results.append({\n",
    "            'prior': dict(dist.prior.probs),\n",
    "            'posterior_predictive': list(dist.posterior_predictive().probs.values()),\n",
    "        })\n",
    "        \n",
    "    runs.append({\n",
    "        'season': s,\n",
    "        'tds': tds,\n",
    "        'results': results,\n",
    "    })"
   ]
  },
  {
   "cell_type": "code",
   "execution_count": 48,
   "metadata": {},
   "outputs": [
    {
     "data": {
      "text/plain": [
       "90"
      ]
     },
     "execution_count": 48,
     "metadata": {},
     "output_type": "execute_result"
    }
   ],
   "source": [
    "len(runs)"
   ]
  },
  {
   "cell_type": "code",
   "execution_count": 49,
   "metadata": {},
   "outputs": [
    {
     "data": {
      "text/plain": [
       "{'posterior_predictive': [0.1463043405805957,\n",
       "  0.32696003821755115,\n",
       "  0.2986412771772338,\n",
       "  0.1496705958160669,\n",
       "  0.05822621679572496,\n",
       "  0.016031373943184723,\n",
       "  0.0041661574696425984],\n",
       " 'prior': {'bad': 0.033,\n",
       "  'good': 0.22,\n",
       "  'great': 0.044,\n",
       "  'meh': 0.264,\n",
       "  'ok': 0.429}}"
      ]
     },
     "execution_count": 49,
     "metadata": {},
     "output_type": "execute_result"
    }
   ],
   "source": [
    "runs[0]['results'][0]"
   ]
  },
  {
   "cell_type": "code",
   "execution_count": 51,
   "metadata": {},
   "outputs": [
    {
     "data": {
      "text/plain": [
       "{'avg_tds': 1.88,\n",
       " 'bucket': 'ok',\n",
       " 'bucket_num': '3',\n",
       " 'full_name': 'Aaron Rodgers',\n",
       " 'year': '2009'}"
      ]
     },
     "execution_count": 51,
     "metadata": {},
     "output_type": "execute_result"
    }
   ],
   "source": [
    "runs[0]['season']"
   ]
  },
  {
   "cell_type": "code",
   "execution_count": 52,
   "metadata": {
    "collapsed": true
   },
   "outputs": [],
   "source": [
    "def expected_value(pp):\n",
    "    return sum(i*x for i,x in enumerate(pp))\n",
    "\n",
    "\n",
    "def expected_values(results):\n",
    "    return [\n",
    "        expected_value(r['posterior_predictive'])\n",
    "        for r in results\n",
    "    ]\n",
    "\n",
    "def rmse(expected, actual):\n",
    "    deltas = [e-a for e, a in zip(expected, actual)]\n",
    "    sq_deltas = [pow(d,2) for d in deltas]\n",
    "    avg_delta = sum(sq_deltas) / len(sq_deltas)\n",
    "    rmse = math.sqrt(avg_delta)\n",
    "    return rmse"
   ]
  },
  {
   "cell_type": "code",
   "execution_count": 67,
   "metadata": {
    "collapsed": true
   },
   "outputs": [],
   "source": [
    "for r in runs:\n",
    "    exp = expected_values(r['results'])\n",
    "    r['expected_values'] = exp\n",
    "    r['rmse'] = rmse(exp, r['tds'])\n",
    "    r['rmse_avg'] = rmse([1.71]*17, r['tds'])"
   ]
  },
  {
   "cell_type": "code",
   "execution_count": 68,
   "metadata": {},
   "outputs": [
    {
     "data": {
      "text/plain": [
       "[1.7113130617368986,\n",
       " 1.64407705315362,\n",
       " 1.5895710292623628,\n",
       " 1.6243032781717697,\n",
       " 1.646172734697456,\n",
       " 1.662178170477731,\n",
       " 1.7714081858731618,\n",
       " 1.856454794003093,\n",
       " 1.8591939579905676,\n",
       " 1.8172937562175637,\n",
       " 1.8217255332151008,\n",
       " 1.8812465205482038,\n",
       " 1.9321663774611386,\n",
       " 1.835512442150199,\n",
       " 1.880270824238903,\n",
       " 1.8475977170058848,\n",
       " 1.8190454747854334]"
      ]
     },
     "execution_count": 68,
     "metadata": {},
     "output_type": "execute_result"
    }
   ],
   "source": [
    "runs[0]['expected_values']"
   ]
  },
  {
   "cell_type": "code",
   "execution_count": 69,
   "metadata": {},
   "outputs": [
    {
     "data": {
      "text/plain": [
       "[1, 1, 2, 2, 2, 3, 3, 2, 1, 2, 3, 3, 0, 3, 1, 1]"
      ]
     },
     "execution_count": 69,
     "metadata": {},
     "output_type": "execute_result"
    }
   ],
   "source": [
    "runs[0]['tds']"
   ]
  },
  {
   "cell_type": "code",
   "execution_count": 70,
   "metadata": {},
   "outputs": [
    {
     "data": {
      "text/plain": [
       "0.957520829878429"
      ]
     },
     "execution_count": 70,
     "metadata": {},
     "output_type": "execute_result"
    }
   ],
   "source": [
    "runs[0]['rmse']"
   ]
  },
  {
   "cell_type": "code",
   "execution_count": 71,
   "metadata": {},
   "outputs": [
    {
     "data": {
      "text/plain": [
       "0.9415943925066673"
      ]
     },
     "execution_count": 71,
     "metadata": {},
     "output_type": "execute_result"
    }
   ],
   "source": [
    "runs[0]['rmse_avg']"
   ]
  },
  {
   "cell_type": "code",
   "execution_count": 80,
   "metadata": {},
   "outputs": [
    {
     "data": {
      "text/plain": [
       "<matplotlib.legend.Legend at 0x106ec9518>"
      ]
     },
     "execution_count": 80,
     "metadata": {},
     "output_type": "execute_result"
    },
    {
     "data": {
      "image/png": "[encoded data removed]",
      "text/plain": [
       "<matplotlib.figure.Figure at 0x1056ce898>"
      ]
     },
     "metadata": {},
     "output_type": "display_data"
    }
   ],
   "source": [
    "for b in bucket_probs_dict.keys():\n",
    "    tmp_rmse = [r['rmse'] for r in runs if r['season']['bucket'] == b]\n",
    "    tmp_rmse_avg = [r['rmse_avg'] for r in runs if r['season']['bucket'] == b]\n",
    "\n",
    "    plt.scatter(tmp_rmse, tmp_rmse_avg, label=b)\n",
    "plt.plot([0.7,1.9],[0.7,1.9])\n",
    "plt.legend()"
   ]
  },
  {
   "cell_type": "code",
   "execution_count": 73,
   "metadata": {},
   "outputs": [
    {
     "data": {
      "text/plain": [
       "1.1572188339506115"
      ]
     },
     "execution_count": 73,
     "metadata": {},
     "output_type": "execute_result"
    }
   ],
   "source": [
    "sum(runs_rmse) / len(runs_rmse)"
   ]
  },
  {
   "cell_type": "code",
   "execution_count": 74,
   "metadata": {},
   "outputs": [
    {
     "data": {
      "text/plain": [
       "1.1716116658208078"
      ]
     },
     "execution_count": 74,
     "metadata": {},
     "output_type": "execute_result"
    }
   ],
   "source": [
    "sum(runs_rmse_avg) / len(runs_rmse_avg)"
   ]
  },
  {
   "cell_type": "code",
   "execution_count": null,
   "metadata": {
    "collapsed": true
   },
   "outputs": [],
   "source": []
  }
 ],
 "metadata": {
  "kernelspec": {
   "display_name": "Python 3",
   "language": "python",
   "name": "python3"
  },
  "language_info": {
   "codemirror_mode": {
    "name": "ipython",
    "version": 3
   },
   "file_extension": ".py",
   "mimetype": "text/x-python",
   "name": "python",
   "nbconvert_exporter": "python",
   "pygments_lexer": "ipython3",
   "version": "3.6.1"
  }
 },
 "nbformat": 4,
 "nbformat_minor": 2
}
