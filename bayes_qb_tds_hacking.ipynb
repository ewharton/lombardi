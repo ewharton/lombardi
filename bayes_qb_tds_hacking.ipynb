{
 "cells": [
  {
   "cell_type": "code",
   "execution_count": 1,
   "metadata": {
    "collapsed": true
   },
   "outputs": [],
   "source": [
    "import petl\n",
    "import psycopg2\n",
    "import matplotlib.pyplot as plt\n",
    "\n",
    "%matplotlib inline\n",
    "plt.rcParams['figure.figsize'] = (20.0, 10.0)\n",
    "\n",
    "# suppress bullshit scipy warnings\n",
    "import warnings\n",
    "warnings.filterwarnings(action=\"ignore\", module=\"scipy\", message=\"^internal gelsd\")"
   ]
  },
  {
   "cell_type": "code",
   "execution_count": 9,
   "metadata": {},
   "outputs": [],
   "source": [
    "conn = psycopg2.connect('dbname=nfldb')"
   ]
  },
  {
   "cell_type": "code",
   "execution_count": 10,
   "metadata": {
    "collapsed": true
   },
   "outputs": [],
   "source": [
    "qb_agg = petl.fromdb(conn, 'select * from lombardi.qb_aggs')"
   ]
  },
  {
   "cell_type": "code",
   "execution_count": 11,
   "metadata": {},
   "outputs": [
    {
     "data": {
      "text/html": [
       "<table class='petl'>\n",
       "<thead>\n",
       "<tr>\n",
       "<th>year</th>\n",
       "<th>full_name</th>\n",
       "<th>avg_yds</th>\n",
       "<th>avg_tds</th>\n",
       "<th>avg_int</th>\n",
       "<th>avg_cmp</th>\n",
       "<th>avg_att</th>\n",
       "<th>std_yds</th>\n",
       "<th>std_tds</th>\n",
       "<th>std_int</th>\n",
       "<th>std_cmp</th>\n",
       "<th>std_att</th>\n",
       "<th>num_games</th>\n",
       "</tr>\n",
       "</thead>\n",
       "<tbody>\n",
       "<tr>\n",
       "<td style='text-align: right'>2009</td>\n",
       "<td>Aaron Rodgers</td>\n",
       "<td>277.13</td>\n",
       "<td>1.88</td>\n",
       "<td>0.44</td>\n",
       "<td>21.88</td>\n",
       "<td>33.81</td>\n",
       "<td>68.14</td>\n",
       "<td>0.96</td>\n",
       "<td>0.89</td>\n",
       "<td>6.20</td>\n",
       "<td>8.61</td>\n",
       "<td style='text-align: right'>16</td>\n",
       "</tr>\n",
       "<tr>\n",
       "<td style='text-align: right'>2009</td>\n",
       "<td>Alex Smith</td>\n",
       "<td>213.64</td>\n",
       "<td>1.64</td>\n",
       "<td>1.09</td>\n",
       "<td>20.45</td>\n",
       "<td>33.82</td>\n",
       "<td>55.69</td>\n",
       "<td>0.92</td>\n",
       "<td>1.14</td>\n",
       "<td>4.95</td>\n",
       "<td>7.85</td>\n",
       "<td style='text-align: right'>11</td>\n",
       "</tr>\n",
       "<tr>\n",
       "<td style='text-align: right'>2009</td>\n",
       "<td>Ben Roethlisberger</td>\n",
       "<td>288.53</td>\n",
       "<td>1.73</td>\n",
       "<td>0.80</td>\n",
       "<td>22.47</td>\n",
       "<td>33.73</td>\n",
       "<td>96.10</td>\n",
       "<td>1.10</td>\n",
       "<td>0.68</td>\n",
       "<td>5.53</td>\n",
       "<td>6.52</td>\n",
       "<td style='text-align: right'>15</td>\n",
       "</tr>\n",
       "<tr>\n",
       "<td style='text-align: right'>2009</td>\n",
       "<td>Brian Hoyer</td>\n",
       "<td>47.33</td>\n",
       "<td>0.00</td>\n",
       "<td>0.00</td>\n",
       "<td>6.33</td>\n",
       "<td>9.00</td>\n",
       "<td>26.31</td>\n",
       "<td>0.00</td>\n",
       "<td>0.00</td>\n",
       "<td>3.79</td>\n",
       "<td>4.36</td>\n",
       "<td style='text-align: right'>3</td>\n",
       "</tr>\n",
       "<tr>\n",
       "<td style='text-align: right'>2009</td>\n",
       "<td>Carson Palmer</td>\n",
       "<td>193.38</td>\n",
       "<td>1.31</td>\n",
       "<td>0.81</td>\n",
       "<td>17.63</td>\n",
       "<td>29.13</td>\n",
       "<td>77.50</td>\n",
       "<td>1.30</td>\n",
       "<td>0.75</td>\n",
       "<td>5.77</td>\n",
       "<td>8.06</td>\n",
       "<td style='text-align: right'>16</td>\n",
       "</tr>\n",
       "</tbody>\n",
       "</table>\n",
       "<p><strong>...</strong></p>"
      ],
      "text/plain": [
       "+------+----------------------+-------------------+-----------------+-----------------+------------------+------------------+------------------+-----------------+-----------------+-----------------+-----------------+-----------+\n",
       "| year | full_name            | avg_yds           | avg_tds         | avg_int         | avg_cmp          | avg_att          | std_yds          | std_tds         | std_int         | std_cmp         | std_att         | num_games |\n",
       "+======+======================+===================+=================+=================+==================+==================+==================+=================+=================+=================+=================+===========+\n",
       "| 2009 | 'Aaron Rodgers'      | Decimal('277.13') | Decimal('1.88') | Decimal('0.44') | Decimal('21.88') | Decimal('33.81') | Decimal('68.14') | Decimal('0.96') | Decimal('0.89') | Decimal('6.20') | Decimal('8.61') |        16 |\n",
       "+------+----------------------+-------------------+-----------------+-----------------+------------------+------------------+------------------+-----------------+-----------------+-----------------+-----------------+-----------+\n",
       "| 2009 | 'Alex Smith'         | Decimal('213.64') | Decimal('1.64') | Decimal('1.09') | Decimal('20.45') | Decimal('33.82') | Decimal('55.69') | Decimal('0.92') | Decimal('1.14') | Decimal('4.95') | Decimal('7.85') |        11 |\n",
       "+------+----------------------+-------------------+-----------------+-----------------+------------------+------------------+------------------+-----------------+-----------------+-----------------+-----------------+-----------+\n",
       "| 2009 | 'Ben Roethlisberger' | Decimal('288.53') | Decimal('1.73') | Decimal('0.80') | Decimal('22.47') | Decimal('33.73') | Decimal('96.10') | Decimal('1.10') | Decimal('0.68') | Decimal('5.53') | Decimal('6.52') |        15 |\n",
       "+------+----------------------+-------------------+-----------------+-----------------+------------------+------------------+------------------+-----------------+-----------------+-----------------+-----------------+-----------+\n",
       "| 2009 | 'Brian Hoyer'        | Decimal('47.33')  | Decimal('0.00') | Decimal('0.00') | Decimal('6.33')  | Decimal('9.00')  | Decimal('26.31') | Decimal('0.00') | Decimal('0.00') | Decimal('3.79') | Decimal('4.36') |         3 |\n",
       "+------+----------------------+-------------------+-----------------+-----------------+------------------+------------------+------------------+-----------------+-----------------+-----------------+-----------------+-----------+\n",
       "| 2009 | 'Carson Palmer'      | Decimal('193.38') | Decimal('1.31') | Decimal('0.81') | Decimal('17.63') | Decimal('29.13') | Decimal('77.50') | Decimal('1.30') | Decimal('0.75') | Decimal('5.77') | Decimal('8.06') |        16 |\n",
       "+------+----------------------+-------------------+-----------------+-----------------+------------------+------------------+------------------+-----------------+-----------------+-----------------+-----------------+-----------+\n",
       "..."
      ]
     },
     "execution_count": 11,
     "metadata": {},
     "output_type": "execute_result"
    }
   ],
   "source": [
    "qb_agg"
   ]
  },
  {
   "cell_type": "code",
   "execution_count": 15,
   "metadata": {
    "collapsed": true
   },
   "outputs": [],
   "source": [
    "qb_agg_full = qb_agg.selecteq('num_games', 16).todataframe()"
   ]
  },
  {
   "cell_type": "code",
   "execution_count": 18,
   "metadata": {},
   "outputs": [
    {
     "data": {
      "text/html": [
       "<div>\n",
       "<table border=\"1\" class=\"dataframe\">\n",
       "  <thead>\n",
       "    <tr style=\"text-align: right;\">\n",
       "      <th></th>\n",
       "      <th>year</th>\n",
       "      <th>full_name</th>\n",
       "      <th>avg_yds</th>\n",
       "      <th>avg_tds</th>\n",
       "      <th>avg_int</th>\n",
       "      <th>avg_cmp</th>\n",
       "      <th>avg_att</th>\n",
       "      <th>std_yds</th>\n",
       "      <th>std_tds</th>\n",
       "      <th>std_int</th>\n",
       "      <th>std_cmp</th>\n",
       "      <th>std_att</th>\n",
       "      <th>num_games</th>\n",
       "    </tr>\n",
       "  </thead>\n",
       "  <tbody>\n",
       "    <tr>\n",
       "      <th>0</th>\n",
       "      <td>2009</td>\n",
       "      <td>Aaron Rodgers</td>\n",
       "      <td>277.13</td>\n",
       "      <td>1.88</td>\n",
       "      <td>0.44</td>\n",
       "      <td>21.88</td>\n",
       "      <td>33.81</td>\n",
       "      <td>68.14</td>\n",
       "      <td>0.96</td>\n",
       "      <td>0.89</td>\n",
       "      <td>6.20</td>\n",
       "      <td>8.61</td>\n",
       "      <td>16</td>\n",
       "    </tr>\n",
       "    <tr>\n",
       "      <th>1</th>\n",
       "      <td>2009</td>\n",
       "      <td>Carson Palmer</td>\n",
       "      <td>193.38</td>\n",
       "      <td>1.31</td>\n",
       "      <td>0.81</td>\n",
       "      <td>17.63</td>\n",
       "      <td>29.13</td>\n",
       "      <td>77.50</td>\n",
       "      <td>1.30</td>\n",
       "      <td>0.75</td>\n",
       "      <td>5.77</td>\n",
       "      <td>8.06</td>\n",
       "      <td>16</td>\n",
       "    </tr>\n",
       "    <tr>\n",
       "      <th>2</th>\n",
       "      <td>2009</td>\n",
       "      <td>Eli Manning</td>\n",
       "      <td>251.31</td>\n",
       "      <td>1.69</td>\n",
       "      <td>0.88</td>\n",
       "      <td>19.81</td>\n",
       "      <td>31.81</td>\n",
       "      <td>73.89</td>\n",
       "      <td>1.01</td>\n",
       "      <td>0.89</td>\n",
       "      <td>5.94</td>\n",
       "      <td>8.60</td>\n",
       "      <td>16</td>\n",
       "    </tr>\n",
       "    <tr>\n",
       "      <th>3</th>\n",
       "      <td>2009</td>\n",
       "      <td>Joe Flacco</td>\n",
       "      <td>225.81</td>\n",
       "      <td>1.31</td>\n",
       "      <td>0.75</td>\n",
       "      <td>19.69</td>\n",
       "      <td>31.19</td>\n",
       "      <td>77.50</td>\n",
       "      <td>1.14</td>\n",
       "      <td>0.93</td>\n",
       "      <td>5.55</td>\n",
       "      <td>8.77</td>\n",
       "      <td>16</td>\n",
       "    </tr>\n",
       "    <tr>\n",
       "      <th>4</th>\n",
       "      <td>2009</td>\n",
       "      <td>Matt Schaub</td>\n",
       "      <td>298.13</td>\n",
       "      <td>1.81</td>\n",
       "      <td>0.94</td>\n",
       "      <td>24.75</td>\n",
       "      <td>36.44</td>\n",
       "      <td>63.62</td>\n",
       "      <td>1.17</td>\n",
       "      <td>0.68</td>\n",
       "      <td>6.06</td>\n",
       "      <td>6.82</td>\n",
       "      <td>16</td>\n",
       "    </tr>\n",
       "  </tbody>\n",
       "</table>\n",
       "</div>"
      ],
      "text/plain": [
       "   year      full_name avg_yds avg_tds avg_int avg_cmp avg_att std_yds  \\\n",
       "0  2009  Aaron Rodgers  277.13    1.88    0.44   21.88   33.81   68.14   \n",
       "1  2009  Carson Palmer  193.38    1.31    0.81   17.63   29.13   77.50   \n",
       "2  2009    Eli Manning  251.31    1.69    0.88   19.81   31.81   73.89   \n",
       "3  2009     Joe Flacco  225.81    1.31    0.75   19.69   31.19   77.50   \n",
       "4  2009    Matt Schaub  298.13    1.81    0.94   24.75   36.44   63.62   \n",
       "\n",
       "  std_tds std_int std_cmp std_att  num_games  \n",
       "0    0.96    0.89    6.20    8.61         16  \n",
       "1    1.30    0.75    5.77    8.06         16  \n",
       "2    1.01    0.89    5.94    8.60         16  \n",
       "3    1.14    0.93    5.55    8.77         16  \n",
       "4    1.17    0.68    6.06    6.82         16  "
      ]
     },
     "execution_count": 18,
     "metadata": {},
     "output_type": "execute_result"
    }
   ],
   "source": [
    "qb_agg_full.head()"
   ]
  },
  {
   "cell_type": "code",
   "execution_count": 17,
   "metadata": {},
   "outputs": [
    {
     "data": {
      "text/plain": [
       "<matplotlib.collections.PathCollection at 0x110be1e48>"
      ]
     },
     "execution_count": 17,
     "metadata": {},
     "output_type": "execute_result"
    },
    {
     "data": {
      "image/png": "[encoded data removed]",
      "text/plain": [
       "<matplotlib.figure.Figure at 0x1146132b0>"
      ]
     },
     "metadata": {},
     "output_type": "display_data"
    }
   ],
   "source": [
    "plt.scatter(qb_agg_full['avg_tds'], qb_agg_full['std_tds'])"
   ]
  },
  {
   "cell_type": "code",
   "execution_count": 25,
   "metadata": {
    "collapsed": true
   },
   "outputs": [],
   "source": [
    "tds = list(qb_agg_full['avg_tds'])"
   ]
  },
  {
   "cell_type": "code",
   "execution_count": 26,
   "metadata": {},
   "outputs": [
    {
     "data": {
      "text/plain": [
       "[<matplotlib.lines.Line2D at 0x114c38898>]"
      ]
     },
     "execution_count": 26,
     "metadata": {},
     "output_type": "execute_result"
    },
    {
     "data": {
      "image/png": "[encoded data removed]",
      "text/plain": [
       "<matplotlib.figure.Figure at 0x1149a1630>"
      ]
     },
     "metadata": {},
     "output_type": "display_data"
    }
   ],
   "source": [
    "plt.plot(range(len(yds)), sorted(tds))"
   ]
  },
  {
   "cell_type": "code",
   "execution_count": 29,
   "metadata": {},
   "outputs": [],
   "source": [
    "min_tds = 0\n",
    "max_tds = 3\n",
    "div = 0.5\n",
    "\n",
    "num_bins = int((max_tds - min_tds) / div)"
   ]
  },
  {
   "cell_type": "code",
   "execution_count": 47,
   "metadata": {},
   "outputs": [
    {
     "data": {
      "image/png": "[encoded data removed]",
      "text/plain": [
       "<matplotlib.figure.Figure at 0x1104b9400>"
      ]
     },
     "metadata": {},
     "output_type": "display_data"
    }
   ],
   "source": [
    "x,y, = plt.hist(tds, bins=6, range=(0,3))"
   ]
  },
  {
   "cell_type": "code",
   "execution_count": 52,
   "metadata": {},
   "outputs": [
    {
     "ename": "NameError",
     "evalue": "name 'qb_aggs_full' is not defined",
     "output_type": "error",
     "traceback": [
      "\u001b[0;31m---------------------------------------------------------------------------\u001b[0m",
      "\u001b[0;31mNameError\u001b[0m                                 Traceback (most recent call last)",
      "\u001b[0;32m<ipython-input-52-bd2a8cbf0c55>\u001b[0m in \u001b[0;36m<module>\u001b[0;34m()\u001b[0m\n\u001b[0;32m----> 1\u001b[0;31m \u001b[0mqb_aggs_full\u001b[0m\u001b[0;34m.\u001b[0m\u001b[0mhead\u001b[0m\u001b[0;34m(\u001b[0m\u001b[0;34m)\u001b[0m\u001b[0;34m\u001b[0m\u001b[0m\n\u001b[0m",
      "\u001b[0;31mNameError\u001b[0m: name 'qb_aggs_full' is not defined"
     ]
    }
   ],
   "source": [
    "qb_aggs_full.head()"
   ]
  },
  {
   "cell_type": "code",
   "execution_count": 55,
   "metadata": {},
   "outputs": [],
   "source": [
    "qbs = petl.fromdataframe(qb_agg_full)"
   ]
  },
  {
   "cell_type": "code",
   "execution_count": 76,
   "metadata": {},
   "outputs": [],
   "source": [
    "qbs = qbs.addfield('bucket', lambda rec: int(float(rec['avg_tds']) // 0.5))"
   ]
  },
  {
   "cell_type": "code",
   "execution_count": 77,
   "metadata": {
    "collapsed": true
   },
   "outputs": [],
   "source": [
    "qb_buckets = qbs.sort(('bucket', 'year', 'full_name'))"
   ]
  },
  {
   "cell_type": "code",
   "execution_count": 78,
   "metadata": {},
   "outputs": [
    {
     "data": {
      "text/html": [
       "<table class='petl'>\n",
       "<thead>\n",
       "<tr>\n",
       "<th>year</th>\n",
       "<th>full_name</th>\n",
       "<th>avg_yds</th>\n",
       "<th>avg_tds</th>\n",
       "<th>avg_int</th>\n",
       "<th>avg_cmp</th>\n",
       "<th>avg_att</th>\n",
       "<th>std_yds</th>\n",
       "<th>std_tds</th>\n",
       "<th>std_int</th>\n",
       "<th>std_cmp</th>\n",
       "<th>std_att</th>\n",
       "<th>num_games</th>\n",
       "<th>bucket</th>\n",
       "</tr>\n",
       "</thead>\n",
       "<tbody>\n",
       "<tr>\n",
       "<td style='text-align: right'>2012</td>\n",
       "<td>Ryan Tannehill</td>\n",
       "<td>205.88</td>\n",
       "<td>0.75</td>\n",
       "<td>0.81</td>\n",
       "<td>17.63</td>\n",
       "<td>30.25</td>\n",
       "<td>86.01</td>\n",
       "<td>0.77</td>\n",
       "<td>1.11</td>\n",
       "<td>5.56</td>\n",
       "<td>8.42</td>\n",
       "<td style='text-align: right'>16</td>\n",
       "<td style='text-align: right'>1</td>\n",
       "</tr>\n",
       "<tr>\n",
       "<td style='text-align: right'>2013</td>\n",
       "<td>Geno Smith</td>\n",
       "<td>190.38</td>\n",
       "<td>0.75</td>\n",
       "<td>1.31</td>\n",
       "<td>15.44</td>\n",
       "<td>27.69</td>\n",
       "<td>74.23</td>\n",
       "<td>0.93</td>\n",
       "<td>1.01</td>\n",
       "<td>5.62</td>\n",
       "<td>7.54</td>\n",
       "<td style='text-align: right'>16</td>\n",
       "<td style='text-align: right'>1</td>\n",
       "</tr>\n",
       "<tr>\n",
       "<td style='text-align: right'>2015</td>\n",
       "<td>Teddy Bridgewater</td>\n",
       "<td>201.94</td>\n",
       "<td>0.88</td>\n",
       "<td>0.56</td>\n",
       "<td>18.25</td>\n",
       "<td>27.94</td>\n",
       "<td>74.79</td>\n",
       "<td>1.02</td>\n",
       "<td>0.63</td>\n",
       "<td>5.26</td>\n",
       "<td>7.06</td>\n",
       "<td style='text-align: right'>16</td>\n",
       "<td style='text-align: right'>1</td>\n",
       "</tr>\n",
       "<tr>\n",
       "<td style='text-align: right'>2009</td>\n",
       "<td>Carson Palmer</td>\n",
       "<td>193.38</td>\n",
       "<td>1.31</td>\n",
       "<td>0.81</td>\n",
       "<td>17.63</td>\n",
       "<td>29.13</td>\n",
       "<td>77.50</td>\n",
       "<td>1.30</td>\n",
       "<td>0.75</td>\n",
       "<td>5.77</td>\n",
       "<td>8.06</td>\n",
       "<td style='text-align: right'>16</td>\n",
       "<td style='text-align: right'>2</td>\n",
       "</tr>\n",
       "<tr>\n",
       "<td style='text-align: right'>2009</td>\n",
       "<td>Joe Flacco</td>\n",
       "<td>225.81</td>\n",
       "<td>1.31</td>\n",
       "<td>0.75</td>\n",
       "<td>19.69</td>\n",
       "<td>31.19</td>\n",
       "<td>77.50</td>\n",
       "<td>1.14</td>\n",
       "<td>0.93</td>\n",
       "<td>5.55</td>\n",
       "<td>8.77</td>\n",
       "<td style='text-align: right'>16</td>\n",
       "<td style='text-align: right'>2</td>\n",
       "</tr>\n",
       "</tbody>\n",
       "</table>\n",
       "<p><strong>...</strong></p>"
      ],
      "text/plain": [
       "+------+---------------------+-------------------+-----------------+-----------------+------------------+------------------+------------------+-----------------+-----------------+-----------------+-----------------+-----------+--------+\n",
       "| year | full_name           | avg_yds           | avg_tds         | avg_int         | avg_cmp          | avg_att          | std_yds          | std_tds         | std_int         | std_cmp         | std_att         | num_games | bucket |\n",
       "+======+=====================+===================+=================+=================+==================+==================+==================+=================+=================+=================+=================+===========+========+\n",
       "| 2012 | 'Ryan Tannehill'    | Decimal('205.88') | Decimal('0.75') | Decimal('0.81') | Decimal('17.63') | Decimal('30.25') | Decimal('86.01') | Decimal('0.77') | Decimal('1.11') | Decimal('5.56') | Decimal('8.42') |        16 |      1 |\n",
       "+------+---------------------+-------------------+-----------------+-----------------+------------------+------------------+------------------+-----------------+-----------------+-----------------+-----------------+-----------+--------+\n",
       "| 2013 | 'Geno Smith'        | Decimal('190.38') | Decimal('0.75') | Decimal('1.31') | Decimal('15.44') | Decimal('27.69') | Decimal('74.23') | Decimal('0.93') | Decimal('1.01') | Decimal('5.62') | Decimal('7.54') |        16 |      1 |\n",
       "+------+---------------------+-------------------+-----------------+-----------------+------------------+------------------+------------------+-----------------+-----------------+-----------------+-----------------+-----------+--------+\n",
       "| 2015 | 'Teddy Bridgewater' | Decimal('201.94') | Decimal('0.88') | Decimal('0.56') | Decimal('18.25') | Decimal('27.94') | Decimal('74.79') | Decimal('1.02') | Decimal('0.63') | Decimal('5.26') | Decimal('7.06') |        16 |      1 |\n",
       "+------+---------------------+-------------------+-----------------+-----------------+------------------+------------------+------------------+-----------------+-----------------+-----------------+-----------------+-----------+--------+\n",
       "| 2009 | 'Carson Palmer'     | Decimal('193.38') | Decimal('1.31') | Decimal('0.81') | Decimal('17.63') | Decimal('29.13') | Decimal('77.50') | Decimal('1.30') | Decimal('0.75') | Decimal('5.77') | Decimal('8.06') |        16 |      2 |\n",
       "+------+---------------------+-------------------+-----------------+-----------------+------------------+------------------+------------------+-----------------+-----------------+-----------------+-----------------+-----------+--------+\n",
       "| 2009 | 'Joe Flacco'        | Decimal('225.81') | Decimal('1.31') | Decimal('0.75') | Decimal('19.69') | Decimal('31.19') | Decimal('77.50') | Decimal('1.14') | Decimal('0.93') | Decimal('5.55') | Decimal('8.77') |        16 |      2 |\n",
       "+------+---------------------+-------------------+-----------------+-----------------+------------------+------------------+------------------+-----------------+-----------------+-----------------+-----------------+-----------+--------+\n",
       "..."
      ]
     },
     "execution_count": 78,
     "metadata": {},
     "output_type": "execute_result"
    }
   ],
   "source": [
    "qb_buckets"
   ]
  },
  {
   "cell_type": "code",
   "execution_count": 83,
   "metadata": {
    "collapsed": true
   },
   "outputs": [],
   "source": [
    "conn = psycopg2.connect('dbname=nfldb')\n",
    "qb_games = petl.fromdb(conn, '''\n",
    "    select\n",
    "        s.year,\n",
    "        s.week,\n",
    "        s.full_name,\n",
    "        s.touchdowns\n",
    "    from\n",
    "        lombardi.qb_stats s\n",
    "        join\n",
    "            lombardi.qb_aggs a\n",
    "            on s.year = a.year\n",
    "            and s.full_name = a.full_name\n",
    "    where\n",
    "        a.num_games = 16\n",
    "''')"
   ]
  },
  {
   "cell_type": "code",
   "execution_count": 98,
   "metadata": {
    "collapsed": true
   },
   "outputs": [],
   "source": [
    "seasons = (\n",
    "    qb_buckets\n",
    "    .join(qb_games, key=('year', 'full_name'))\n",
    "    .cut(('year', 'full_name', 'bucket', 'week', 'touchdowns'))\n",
    ")"
   ]
  },
  {
   "cell_type": "code",
   "execution_count": 99,
   "metadata": {},
   "outputs": [
    {
     "data": {
      "text/plain": [
       "(array([ 21.,  19.,   6.,   1.,   1.,   0.,   0.]),\n",
       " array([ 0.,  1.,  2.,  3.,  4.,  5.,  6.,  7.]),\n",
       " <a list of 7 Patch objects>)"
      ]
     },
     "execution_count": 99,
     "metadata": {},
     "output_type": "execute_result"
    },
    {
     "data": {
      "image/png": "[encoded data removed]",
      "text/plain": [
       "<matplotlib.figure.Figure at 0x117ac15c0>"
      ]
     },
     "metadata": {},
     "output_type": "display_data"
    }
   ],
   "source": [
    "plt.hist(list(seasons.selecteq('bucket', 1)['touchdowns']), bins=7, range=(0,7))"
   ]
  },
  {
   "cell_type": "code",
   "execution_count": 100,
   "metadata": {},
   "outputs": [
    {
     "data": {
      "text/plain": [
       "(array([  2.,  11.,  17.,  17.,  11.,   6.,   0.]),\n",
       " array([ 0.,  1.,  2.,  3.,  4.,  5.,  6.,  7.]),\n",
       " <a list of 7 Patch objects>)"
      ]
     },
     "execution_count": 100,
     "metadata": {},
     "output_type": "execute_result"
    },
    {
     "data": {
      "image/png": "[encoded data removed]",
      "text/plain": [
       "<matplotlib.figure.Figure at 0x1175cb978>"
      ]
     },
     "metadata": {},
     "output_type": "display_data"
    }
   ],
   "source": [
    "plt.hist(list(seasons.selecteq('bucket', 5)['touchdowns']), bins=7, range=(0,7))"
   ]
  },
  {
   "cell_type": "code",
   "execution_count": 133,
   "metadata": {},
   "outputs": [],
   "source": [
    "records = []\n",
    "\n",
    "for bucket in set(seasons['bucket']):\n",
    "    \n",
    "    sub = seasons.selecteq('bucket', bucket)\n",
    "    \n",
    "    record = {}\n",
    "    record['bucket'] = bucket\n",
    "    \n",
    "    counter = Counter(sub['touchdowns'])\n",
    "    tot = sum(counter.values())\n",
    "    \n",
    "    for tds in range(7):\n",
    "        records.append(dict(\n",
    "            bucket=bucket,\n",
    "            tds=tds,\n",
    "            num=counter.get(tds, 0),\n",
    "            p=round(counter.get(tds,0)/tot, 2),\n",
    "        ))"
   ]
  },
  {
   "cell_type": "code",
   "execution_count": 134,
   "metadata": {},
   "outputs": [
    {
     "data": {
      "text/plain": [
       "[{'bucket': 1, 'num': 21, 'p': 0.44, 'tds': 0},\n",
       " {'bucket': 1, 'num': 19, 'p': 0.4, 'tds': 1},\n",
       " {'bucket': 1, 'num': 6, 'p': 0.12, 'tds': 2},\n",
       " {'bucket': 1, 'num': 1, 'p': 0.02, 'tds': 3},\n",
       " {'bucket': 1, 'num': 1, 'p': 0.02, 'tds': 4},\n",
       " {'bucket': 1, 'num': 0, 'p': 0.0, 'tds': 5},\n",
       " {'bucket': 1, 'num': 0, 'p': 0.0, 'tds': 6},\n",
       " {'bucket': 2, 'num': 90, 'p': 0.23, 'tds': 0},\n",
       " {'bucket': 2, 'num': 147, 'p': 0.38, 'tds': 1},\n",
       " {'bucket': 2, 'num': 109, 'p': 0.28, 'tds': 2},\n",
       " {'bucket': 2, 'num': 29, 'p': 0.08, 'tds': 3},\n",
       " {'bucket': 2, 'num': 6, 'p': 0.02, 'tds': 4},\n",
       " {'bucket': 2, 'num': 3, 'p': 0.01, 'tds': 5},\n",
       " {'bucket': 2, 'num': 0, 'p': 0.0, 'tds': 6},\n",
       " {'bucket': 3, 'num': 78, 'p': 0.12, 'tds': 0},\n",
       " {'bucket': 3, 'num': 211, 'p': 0.34, 'tds': 1},\n",
       " {'bucket': 3, 'num': 196, 'p': 0.31, 'tds': 2},\n",
       " {'bucket': 3, 'num': 99, 'p': 0.16, 'tds': 3},\n",
       " {'bucket': 3, 'num': 34, 'p': 0.05, 'tds': 4},\n",
       " {'bucket': 3, 'num': 3, 'p': 0.0, 'tds': 5},\n",
       " {'bucket': 3, 'num': 3, 'p': 0.0, 'tds': 6},\n",
       " {'bucket': 4, 'num': 20, 'p': 0.06, 'tds': 0},\n",
       " {'bucket': 4, 'num': 83, 'p': 0.26, 'tds': 1},\n",
       " {'bucket': 4, 'num': 102, 'p': 0.32, 'tds': 2},\n",
       " {'bucket': 4, 'num': 69, 'p': 0.22, 'tds': 3},\n",
       " {'bucket': 4, 'num': 32, 'p': 0.1, 'tds': 4},\n",
       " {'bucket': 4, 'num': 11, 'p': 0.03, 'tds': 5},\n",
       " {'bucket': 4, 'num': 3, 'p': 0.01, 'tds': 6},\n",
       " {'bucket': 5, 'num': 2, 'p': 0.03, 'tds': 0},\n",
       " {'bucket': 5, 'num': 11, 'p': 0.17, 'tds': 1},\n",
       " {'bucket': 5, 'num': 17, 'p': 0.27, 'tds': 2},\n",
       " {'bucket': 5, 'num': 17, 'p': 0.27, 'tds': 3},\n",
       " {'bucket': 5, 'num': 11, 'p': 0.17, 'tds': 4},\n",
       " {'bucket': 5, 'num': 6, 'p': 0.09, 'tds': 5},\n",
       " {'bucket': 5, 'num': 0, 'p': 0.0, 'tds': 6}]"
      ]
     },
     "execution_count": 134,
     "metadata": {},
     "output_type": "execute_result"
    }
   ],
   "source": [
    "records"
   ]
  },
  {
   "cell_type": "code",
   "execution_count": 136,
   "metadata": {},
   "outputs": [],
   "source": [
    "likelihoods = petl.fromdicts(records)"
   ]
  },
  {
   "cell_type": "code",
   "execution_count": 138,
   "metadata": {},
   "outputs": [
    {
     "data": {
      "text/html": [
       "<table class='petl'>\n",
       "<thead>\n",
       "<tr>\n",
       "<th>year</th>\n",
       "<th>full_name</th>\n",
       "<th>avg_yds</th>\n",
       "<th>avg_tds</th>\n",
       "<th>avg_int</th>\n",
       "<th>avg_cmp</th>\n",
       "<th>avg_att</th>\n",
       "<th>std_yds</th>\n",
       "<th>std_tds</th>\n",
       "<th>std_int</th>\n",
       "<th>std_cmp</th>\n",
       "<th>std_att</th>\n",
       "<th>num_games</th>\n",
       "<th>bucket</th>\n",
       "</tr>\n",
       "</thead>\n",
       "<tbody>\n",
       "<tr>\n",
       "<td style='text-align: right'>2012</td>\n",
       "<td>Ryan Tannehill</td>\n",
       "<td>205.88</td>\n",
       "<td>0.75</td>\n",
       "<td>0.81</td>\n",
       "<td>17.63</td>\n",
       "<td>30.25</td>\n",
       "<td>86.01</td>\n",
       "<td>0.77</td>\n",
       "<td>1.11</td>\n",
       "<td>5.56</td>\n",
       "<td>8.42</td>\n",
       "<td style='text-align: right'>16</td>\n",
       "<td style='text-align: right'>1</td>\n",
       "</tr>\n",
       "<tr>\n",
       "<td style='text-align: right'>2013</td>\n",
       "<td>Geno Smith</td>\n",
       "<td>190.38</td>\n",
       "<td>0.75</td>\n",
       "<td>1.31</td>\n",
       "<td>15.44</td>\n",
       "<td>27.69</td>\n",
       "<td>74.23</td>\n",
       "<td>0.93</td>\n",
       "<td>1.01</td>\n",
       "<td>5.62</td>\n",
       "<td>7.54</td>\n",
       "<td style='text-align: right'>16</td>\n",
       "<td style='text-align: right'>1</td>\n",
       "</tr>\n",
       "<tr>\n",
       "<td style='text-align: right'>2015</td>\n",
       "<td>Teddy Bridgewater</td>\n",
       "<td>201.94</td>\n",
       "<td>0.88</td>\n",
       "<td>0.56</td>\n",
       "<td>18.25</td>\n",
       "<td>27.94</td>\n",
       "<td>74.79</td>\n",
       "<td>1.02</td>\n",
       "<td>0.63</td>\n",
       "<td>5.26</td>\n",
       "<td>7.06</td>\n",
       "<td style='text-align: right'>16</td>\n",
       "<td style='text-align: right'>1</td>\n",
       "</tr>\n",
       "<tr>\n",
       "<td style='text-align: right'>2009</td>\n",
       "<td>Carson Palmer</td>\n",
       "<td>193.38</td>\n",
       "<td>1.31</td>\n",
       "<td>0.81</td>\n",
       "<td>17.63</td>\n",
       "<td>29.13</td>\n",
       "<td>77.50</td>\n",
       "<td>1.30</td>\n",
       "<td>0.75</td>\n",
       "<td>5.77</td>\n",
       "<td>8.06</td>\n",
       "<td style='text-align: right'>16</td>\n",
       "<td style='text-align: right'>2</td>\n",
       "</tr>\n",
       "<tr>\n",
       "<td style='text-align: right'>2009</td>\n",
       "<td>Joe Flacco</td>\n",
       "<td>225.81</td>\n",
       "<td>1.31</td>\n",
       "<td>0.75</td>\n",
       "<td>19.69</td>\n",
       "<td>31.19</td>\n",
       "<td>77.50</td>\n",
       "<td>1.14</td>\n",
       "<td>0.93</td>\n",
       "<td>5.55</td>\n",
       "<td>8.77</td>\n",
       "<td style='text-align: right'>16</td>\n",
       "<td style='text-align: right'>2</td>\n",
       "</tr>\n",
       "</tbody>\n",
       "</table>\n",
       "<p><strong>...</strong></p>"
      ],
      "text/plain": [
       "+------+---------------------+-------------------+-----------------+-----------------+------------------+------------------+------------------+-----------------+-----------------+-----------------+-----------------+-----------+--------+\n",
       "| year | full_name           | avg_yds           | avg_tds         | avg_int         | avg_cmp          | avg_att          | std_yds          | std_tds         | std_int         | std_cmp         | std_att         | num_games | bucket |\n",
       "+======+=====================+===================+=================+=================+==================+==================+==================+=================+=================+=================+=================+===========+========+\n",
       "| 2012 | 'Ryan Tannehill'    | Decimal('205.88') | Decimal('0.75') | Decimal('0.81') | Decimal('17.63') | Decimal('30.25') | Decimal('86.01') | Decimal('0.77') | Decimal('1.11') | Decimal('5.56') | Decimal('8.42') |        16 |      1 |\n",
       "+------+---------------------+-------------------+-----------------+-----------------+------------------+------------------+------------------+-----------------+-----------------+-----------------+-----------------+-----------+--------+\n",
       "| 2013 | 'Geno Smith'        | Decimal('190.38') | Decimal('0.75') | Decimal('1.31') | Decimal('15.44') | Decimal('27.69') | Decimal('74.23') | Decimal('0.93') | Decimal('1.01') | Decimal('5.62') | Decimal('7.54') |        16 |      1 |\n",
       "+------+---------------------+-------------------+-----------------+-----------------+------------------+------------------+------------------+-----------------+-----------------+-----------------+-----------------+-----------+--------+\n",
       "| 2015 | 'Teddy Bridgewater' | Decimal('201.94') | Decimal('0.88') | Decimal('0.56') | Decimal('18.25') | Decimal('27.94') | Decimal('74.79') | Decimal('1.02') | Decimal('0.63') | Decimal('5.26') | Decimal('7.06') |        16 |      1 |\n",
       "+------+---------------------+-------------------+-----------------+-----------------+------------------+------------------+------------------+-----------------+-----------------+-----------------+-----------------+-----------+--------+\n",
       "| 2009 | 'Carson Palmer'     | Decimal('193.38') | Decimal('1.31') | Decimal('0.81') | Decimal('17.63') | Decimal('29.13') | Decimal('77.50') | Decimal('1.30') | Decimal('0.75') | Decimal('5.77') | Decimal('8.06') |        16 |      2 |\n",
       "+------+---------------------+-------------------+-----------------+-----------------+------------------+------------------+------------------+-----------------+-----------------+-----------------+-----------------+-----------+--------+\n",
       "| 2009 | 'Joe Flacco'        | Decimal('225.81') | Decimal('1.31') | Decimal('0.75') | Decimal('19.69') | Decimal('31.19') | Decimal('77.50') | Decimal('1.14') | Decimal('0.93') | Decimal('5.55') | Decimal('8.77') |        16 |      2 |\n",
       "+------+---------------------+-------------------+-----------------+-----------------+------------------+------------------+------------------+-----------------+-----------------+-----------------+-----------------+-----------+--------+\n",
       "..."
      ]
     },
     "execution_count": 138,
     "metadata": {},
     "output_type": "execute_result"
    }
   ],
   "source": [
    "qb_buckets"
   ]
  },
  {
   "cell_type": "code",
   "execution_count": 139,
   "metadata": {
    "collapsed": true
   },
   "outputs": [],
   "source": [
    "counter = Counter(qb_buckets['bucket'])"
   ]
  },
  {
   "cell_type": "code",
   "execution_count": 140,
   "metadata": {},
   "outputs": [
    {
     "data": {
      "text/plain": [
       "Counter({1: 3, 2: 24, 3: 39, 4: 20, 5: 4})"
      ]
     },
     "execution_count": 140,
     "metadata": {},
     "output_type": "execute_result"
    }
   ],
   "source": [
    "counter"
   ]
  },
  {
   "cell_type": "code",
   "execution_count": 141,
   "metadata": {
    "collapsed": true
   },
   "outputs": [],
   "source": [
    "bucket_records = [dict(bucket=k, num=v, p=round(v/sum(counter.values()),2)) for k,v in counter.items()]"
   ]
  },
  {
   "cell_type": "code",
   "execution_count": 142,
   "metadata": {},
   "outputs": [
    {
     "data": {
      "text/plain": [
       "[{'bucket': 1, 'num': 3, 'p': 0.03},\n",
       " {'bucket': 2, 'num': 24, 'p': 0.27},\n",
       " {'bucket': 3, 'num': 39, 'p': 0.43},\n",
       " {'bucket': 4, 'num': 20, 'p': 0.22},\n",
       " {'bucket': 5, 'num': 4, 'p': 0.04}]"
      ]
     },
     "execution_count": 142,
     "metadata": {},
     "output_type": "execute_result"
    }
   ],
   "source": [
    "bucket_records"
   ]
  },
  {
   "cell_type": "code",
   "execution_count": 145,
   "metadata": {
    "collapsed": true
   },
   "outputs": [],
   "source": [
    "prior = petl.fromdicts(bucket_records)"
   ]
  },
  {
   "cell_type": "code",
   "execution_count": 146,
   "metadata": {},
   "outputs": [
    {
     "data": {
      "text/html": [
       "<table class='petl'>\n",
       "<thead>\n",
       "<tr>\n",
       "<th>bucket</th>\n",
       "<th>num</th>\n",
       "<th>p</th>\n",
       "</tr>\n",
       "</thead>\n",
       "<tbody>\n",
       "<tr>\n",
       "<td style='text-align: right'>1</td>\n",
       "<td style='text-align: right'>3</td>\n",
       "<td style='text-align: right'>0.03</td>\n",
       "</tr>\n",
       "<tr>\n",
       "<td style='text-align: right'>2</td>\n",
       "<td style='text-align: right'>24</td>\n",
       "<td style='text-align: right'>0.27</td>\n",
       "</tr>\n",
       "<tr>\n",
       "<td style='text-align: right'>3</td>\n",
       "<td style='text-align: right'>39</td>\n",
       "<td style='text-align: right'>0.43</td>\n",
       "</tr>\n",
       "<tr>\n",
       "<td style='text-align: right'>4</td>\n",
       "<td style='text-align: right'>20</td>\n",
       "<td style='text-align: right'>0.22</td>\n",
       "</tr>\n",
       "<tr>\n",
       "<td style='text-align: right'>5</td>\n",
       "<td style='text-align: right'>4</td>\n",
       "<td style='text-align: right'>0.04</td>\n",
       "</tr>\n",
       "</tbody>\n",
       "</table>\n"
      ],
      "text/plain": [
       "+--------+-----+------+\n",
       "| bucket | num | p    |\n",
       "+========+=====+======+\n",
       "|      1 |   3 | 0.03 |\n",
       "+--------+-----+------+\n",
       "|      2 |  24 | 0.27 |\n",
       "+--------+-----+------+\n",
       "|      3 |  39 | 0.43 |\n",
       "+--------+-----+------+\n",
       "|      4 |  20 | 0.22 |\n",
       "+--------+-----+------+\n",
       "|      5 |   4 | 0.04 |\n",
       "+--------+-----+------+"
      ]
     },
     "execution_count": 146,
     "metadata": {},
     "output_type": "execute_result"
    }
   ],
   "source": [
    "prior"
   ]
  },
  {
   "cell_type": "code",
   "execution_count": 147,
   "metadata": {},
   "outputs": [
    {
     "data": {
      "text/html": [
       "<table class='petl'>\n",
       "<thead>\n",
       "<tr>\n",
       "<th>bucket</th>\n",
       "<th>tds</th>\n",
       "<th>num</th>\n",
       "<th>p</th>\n",
       "</tr>\n",
       "</thead>\n",
       "<tbody>\n",
       "<tr>\n",
       "<td style='text-align: right'>1</td>\n",
       "<td style='text-align: right'>0</td>\n",
       "<td style='text-align: right'>21</td>\n",
       "<td style='text-align: right'>0.44</td>\n",
       "</tr>\n",
       "<tr>\n",
       "<td style='text-align: right'>1</td>\n",
       "<td style='text-align: right'>1</td>\n",
       "<td style='text-align: right'>19</td>\n",
       "<td style='text-align: right'>0.4</td>\n",
       "</tr>\n",
       "<tr>\n",
       "<td style='text-align: right'>1</td>\n",
       "<td style='text-align: right'>2</td>\n",
       "<td style='text-align: right'>6</td>\n",
       "<td style='text-align: right'>0.12</td>\n",
       "</tr>\n",
       "<tr>\n",
       "<td style='text-align: right'>1</td>\n",
       "<td style='text-align: right'>3</td>\n",
       "<td style='text-align: right'>1</td>\n",
       "<td style='text-align: right'>0.02</td>\n",
       "</tr>\n",
       "<tr>\n",
       "<td style='text-align: right'>1</td>\n",
       "<td style='text-align: right'>4</td>\n",
       "<td style='text-align: right'>1</td>\n",
       "<td style='text-align: right'>0.02</td>\n",
       "</tr>\n",
       "</tbody>\n",
       "</table>\n",
       "<p><strong>...</strong></p>"
      ],
      "text/plain": [
       "+--------+-----+-----+------+\n",
       "| bucket | tds | num | p    |\n",
       "+========+=====+=====+======+\n",
       "|      1 |   0 |  21 | 0.44 |\n",
       "+--------+-----+-----+------+\n",
       "|      1 |   1 |  19 |  0.4 |\n",
       "+--------+-----+-----+------+\n",
       "|      1 |   2 |   6 | 0.12 |\n",
       "+--------+-----+-----+------+\n",
       "|      1 |   3 |   1 | 0.02 |\n",
       "+--------+-----+-----+------+\n",
       "|      1 |   4 |   1 | 0.02 |\n",
       "+--------+-----+-----+------+\n",
       "..."
      ]
     },
     "execution_count": 147,
     "metadata": {},
     "output_type": "execute_result"
    }
   ],
   "source": [
    "likelihoods"
   ]
  },
  {
   "cell_type": "code",
   "execution_count": 184,
   "metadata": {},
   "outputs": [],
   "source": [
    "posterior = prior.join(likelihoods, key='bucket', lprefix='pr_', rprefix='lk_').selecteq('lk_tds', 0)"
   ]
  },
  {
   "cell_type": "code",
   "execution_count": 185,
   "metadata": {},
   "outputs": [
    {
     "data": {
      "text/plain": [
       "+-----------+--------+------+--------+--------+------+\n",
       "| pr_bucket | pr_num | pr_p | lk_tds | lk_num | lk_p |\n",
       "+===========+========+======+========+========+======+\n",
       "|         1 |      3 | 0.03 |      0 |     21 | 0.44 |\n",
       "+-----------+--------+------+--------+--------+------+\n",
       "|         2 |     24 | 0.27 |      0 |     90 | 0.23 |\n",
       "+-----------+--------+------+--------+--------+------+\n",
       "|         3 |     39 | 0.43 |      0 |     78 | 0.12 |\n",
       "+-----------+--------+------+--------+--------+------+\n",
       "|         4 |     20 | 0.22 |      0 |     20 | 0.06 |\n",
       "+-----------+--------+------+--------+--------+------+\n",
       "|         5 |      4 | 0.04 |      0 |      2 | 0.03 |\n",
       "+-----------+--------+------+--------+--------+------+"
      ]
     },
     "execution_count": 185,
     "metadata": {},
     "output_type": "execute_result"
    }
   ],
   "source": [
    "posterior.lookall()"
   ]
  },
  {
   "cell_type": "code",
   "execution_count": 186,
   "metadata": {},
   "outputs": [],
   "source": [
    "posterior = posterior.addfield('p_new', lambda r: r['pr_p']*r['lk_p'])"
   ]
  },
  {
   "cell_type": "code",
   "execution_count": 187,
   "metadata": {},
   "outputs": [
    {
     "data": {
      "text/html": [
       "<table class='petl'>\n",
       "<thead>\n",
       "<tr>\n",
       "<th>pr_bucket</th>\n",
       "<th>pr_num</th>\n",
       "<th>pr_p</th>\n",
       "<th>lk_tds</th>\n",
       "<th>lk_num</th>\n",
       "<th>lk_p</th>\n",
       "<th>p_new</th>\n",
       "<th>p_norm</th>\n",
       "</tr>\n",
       "</thead>\n",
       "<tbody>\n",
       "<tr>\n",
       "<td style='text-align: right'>1</td>\n",
       "<td style='text-align: right'>3</td>\n",
       "<td style='text-align: right'>0.03</td>\n",
       "<td style='text-align: right'>0</td>\n",
       "<td style='text-align: right'>21</td>\n",
       "<td style='text-align: right'>0.44</td>\n",
       "<td style='text-align: right'>0.0132</td>\n",
       "<td style='text-align: right'>0.09341825902335456</td>\n",
       "</tr>\n",
       "<tr>\n",
       "<td style='text-align: right'>2</td>\n",
       "<td style='text-align: right'>24</td>\n",
       "<td style='text-align: right'>0.27</td>\n",
       "<td style='text-align: right'>0</td>\n",
       "<td style='text-align: right'>90</td>\n",
       "<td style='text-align: right'>0.23</td>\n",
       "<td style='text-align: right'>0.06210000000000001</td>\n",
       "<td style='text-align: right'>0.4394904458598726</td>\n",
       "</tr>\n",
       "<tr>\n",
       "<td style='text-align: right'>3</td>\n",
       "<td style='text-align: right'>39</td>\n",
       "<td style='text-align: right'>0.43</td>\n",
       "<td style='text-align: right'>0</td>\n",
       "<td style='text-align: right'>78</td>\n",
       "<td style='text-align: right'>0.12</td>\n",
       "<td style='text-align: right'>0.0516</td>\n",
       "<td style='text-align: right'>0.3651804670912951</td>\n",
       "</tr>\n",
       "<tr>\n",
       "<td style='text-align: right'>4</td>\n",
       "<td style='text-align: right'>20</td>\n",
       "<td style='text-align: right'>0.22</td>\n",
       "<td style='text-align: right'>0</td>\n",
       "<td style='text-align: right'>20</td>\n",
       "<td style='text-align: right'>0.06</td>\n",
       "<td style='text-align: right'>0.0132</td>\n",
       "<td style='text-align: right'>0.09341825902335456</td>\n",
       "</tr>\n",
       "<tr>\n",
       "<td style='text-align: right'>5</td>\n",
       "<td style='text-align: right'>4</td>\n",
       "<td style='text-align: right'>0.04</td>\n",
       "<td style='text-align: right'>0</td>\n",
       "<td style='text-align: right'>2</td>\n",
       "<td style='text-align: right'>0.03</td>\n",
       "<td style='text-align: right'>0.0012</td>\n",
       "<td style='text-align: right'>0.00849256900212314</td>\n",
       "</tr>\n",
       "</tbody>\n",
       "</table>\n"
      ],
      "text/plain": [
       "+-----------+--------+------+--------+--------+------+---------------------+---------------------+\n",
       "| pr_bucket | pr_num | pr_p | lk_tds | lk_num | lk_p | p_new               | p_norm              |\n",
       "+===========+========+======+========+========+======+=====================+=====================+\n",
       "|         1 |      3 | 0.03 |      0 |     21 | 0.44 |              0.0132 | 0.09341825902335456 |\n",
       "+-----------+--------+------+--------+--------+------+---------------------+---------------------+\n",
       "|         2 |     24 | 0.27 |      0 |     90 | 0.23 | 0.06210000000000001 |  0.4394904458598726 |\n",
       "+-----------+--------+------+--------+--------+------+---------------------+---------------------+\n",
       "|         3 |     39 | 0.43 |      0 |     78 | 0.12 |              0.0516 |  0.3651804670912951 |\n",
       "+-----------+--------+------+--------+--------+------+---------------------+---------------------+\n",
       "|         4 |     20 | 0.22 |      0 |     20 | 0.06 |              0.0132 | 0.09341825902335456 |\n",
       "+-----------+--------+------+--------+--------+------+---------------------+---------------------+\n",
       "|         5 |      4 | 0.04 |      0 |      2 | 0.03 |              0.0012 | 0.00849256900212314 |\n",
       "+-----------+--------+------+--------+--------+------+---------------------+---------------------+"
      ]
     },
     "execution_count": 187,
     "metadata": {},
     "output_type": "execute_result"
    }
   ],
   "source": [
    "posterior.addfield('p_norm', lambda r: r['p_new'] / sum(posterior['p_new']))"
   ]
  },
  {
   "cell_type": "code",
   "execution_count": 190,
   "metadata": {
    "collapsed": true
   },
   "outputs": [],
   "source": [
    "posterior = (\n",
    "    prior\n",
    "    .join(likelihoods, key='bucket', lprefix='pr_', rprefix='lk_')\n",
    "    .selecteq('lk_tds', 0)\n",
    "    .addfield('p_new', lambda r: r['pr_p']*r['lk_p'])\n",
    ")\n",
    "posterior = posterior.addfield('p_norm', lambda r: r['p_new'] / sum(posterior['p_new']))"
   ]
  },
  {
   "cell_type": "code",
   "execution_count": 193,
   "metadata": {},
   "outputs": [
    {
     "data": {
      "text/plain": [
       "+--------+-----+------+\n",
       "| bucket | num | p    |\n",
       "+========+=====+======+\n",
       "|      1 |   3 | 0.03 |\n",
       "+--------+-----+------+\n",
       "|      2 |  24 | 0.27 |\n",
       "+--------+-----+------+\n",
       "|      3 |  39 | 0.43 |\n",
       "+--------+-----+------+\n",
       "|      4 |  20 | 0.22 |\n",
       "+--------+-----+------+\n",
       "|      5 |   4 | 0.04 |\n",
       "+--------+-----+------+"
      ]
     },
     "execution_count": 193,
     "metadata": {},
     "output_type": "execute_result"
    }
   ],
   "source": [
    "prior.look()"
   ]
  },
  {
   "cell_type": "code",
   "execution_count": 194,
   "metadata": {},
   "outputs": [
    {
     "data": {
      "text/plain": [
       "+--------+-----+-----+------+\n",
       "| bucket | tds | num | p    |\n",
       "+========+=====+=====+======+\n",
       "|      1 |   0 |  21 | 0.44 |\n",
       "+--------+-----+-----+------+\n",
       "|      1 |   1 |  19 |  0.4 |\n",
       "+--------+-----+-----+------+\n",
       "|      1 |   2 |   6 | 0.12 |\n",
       "+--------+-----+-----+------+\n",
       "|      1 |   3 |   1 | 0.02 |\n",
       "+--------+-----+-----+------+\n",
       "|      1 |   4 |   1 | 0.02 |\n",
       "+--------+-----+-----+------+\n",
       "..."
      ]
     },
     "execution_count": 194,
     "metadata": {},
     "output_type": "execute_result"
    }
   ],
   "source": [
    "likelihoods.look()"
   ]
  },
  {
   "cell_type": "code",
   "execution_count": 198,
   "metadata": {
    "collapsed": true
   },
   "outputs": [],
   "source": [
    "def posterior(prior, likelihoods, event_tds):\n",
    "    \n",
    "    pst = (\n",
    "        prior\n",
    "        .join(likelihoods, key='bucket', lprefix='pr_', rprefix='lk_')\n",
    "        .selecteq('lk_tds', 0)\n",
    "        .addfield('p_new', lambda r: r['pr_p']*r['lk_p'])\n",
    "    )\n",
    "    tot = sum(pst['p_new'])\n",
    "    pst = pst.addfield('p_norm', lambda r: round(r['p_new']/tot, 2))\n",
    "    pst = pst.cut(('pr_bucket', 'p_norm'))\n",
    "    pst = pst.rename({'pr_bucket': 'bucket', 'p_norm': 'p'})\n",
    "    return pst"
   ]
  },
  {
   "cell_type": "code",
   "execution_count": 201,
   "metadata": {
    "collapsed": true
   },
   "outputs": [],
   "source": [
    "p = posterior(prior, likelihoods, 0)"
   ]
  },
  {
   "cell_type": "code",
   "execution_count": 202,
   "metadata": {},
   "outputs": [
    {
     "data": {
      "text/plain": [
       "+--------+------+\n",
       "| bucket | p    |\n",
       "+========+======+\n",
       "|      1 | 0.09 |\n",
       "+--------+------+\n",
       "|      2 | 0.44 |\n",
       "+--------+------+\n",
       "|      3 | 0.37 |\n",
       "+--------+------+\n",
       "|      4 | 0.09 |\n",
       "+--------+------+\n",
       "|      5 | 0.01 |\n",
       "+--------+------+"
      ]
     },
     "execution_count": 202,
     "metadata": {},
     "output_type": "execute_result"
    }
   ],
   "source": [
    "p.lookall()"
   ]
  },
  {
   "cell_type": "code",
   "execution_count": 204,
   "metadata": {},
   "outputs": [
    {
     "data": {
      "text/html": [
       "<table class='petl'>\n",
       "<thead>\n",
       "<tr>\n",
       "<th>bucket</th>\n",
       "<th>num</th>\n",
       "<th>p</th>\n",
       "</tr>\n",
       "</thead>\n",
       "<tbody>\n",
       "<tr>\n",
       "<td style='text-align: right'>1</td>\n",
       "<td style='text-align: right'>3</td>\n",
       "<td style='text-align: right'>0.03</td>\n",
       "</tr>\n",
       "<tr>\n",
       "<td style='text-align: right'>2</td>\n",
       "<td style='text-align: right'>24</td>\n",
       "<td style='text-align: right'>0.27</td>\n",
       "</tr>\n",
       "<tr>\n",
       "<td style='text-align: right'>3</td>\n",
       "<td style='text-align: right'>39</td>\n",
       "<td style='text-align: right'>0.43</td>\n",
       "</tr>\n",
       "<tr>\n",
       "<td style='text-align: right'>4</td>\n",
       "<td style='text-align: right'>20</td>\n",
       "<td style='text-align: right'>0.22</td>\n",
       "</tr>\n",
       "<tr>\n",
       "<td style='text-align: right'>5</td>\n",
       "<td style='text-align: right'>4</td>\n",
       "<td style='text-align: right'>0.04</td>\n",
       "</tr>\n",
       "</tbody>\n",
       "</table>\n"
      ],
      "text/plain": [
       "+--------+-----+------+\n",
       "| bucket | num | p    |\n",
       "+========+=====+======+\n",
       "|      1 |   3 | 0.03 |\n",
       "+--------+-----+------+\n",
       "|      2 |  24 | 0.27 |\n",
       "+--------+-----+------+\n",
       "|      3 |  39 | 0.43 |\n",
       "+--------+-----+------+\n",
       "|      4 |  20 | 0.22 |\n",
       "+--------+-----+------+\n",
       "|      5 |   4 | 0.04 |\n",
       "+--------+-----+------+"
      ]
     },
     "execution_count": 204,
     "metadata": {},
     "output_type": "execute_result"
    }
   ],
   "source": [
    "prior"
   ]
  },
  {
   "cell_type": "code",
   "execution_count": 205,
   "metadata": {
    "collapsed": true
   },
   "outputs": [],
   "source": [
    "pst = (\n",
    "        prior\n",
    "        .join(likelihoods, key='bucket', lprefix='pr_', rprefix='lk_')\n",
    "        .addfield('p_new', lambda r: r['pr_p']*r['lk_p'])\n",
    "    )"
   ]
  },
  {
   "cell_type": "code",
   "execution_count": 209,
   "metadata": {},
   "outputs": [
    {
     "data": {
      "text/plain": [
       "+--------+----------------------+\n",
       "| lk_tds | value                |\n",
       "+========+======================+\n",
       "|      0 |               0.1413 |\n",
       "+--------+----------------------+\n",
       "|      1 |   0.3248000000000001 |\n",
       "+--------+----------------------+\n",
       "|      2 |               0.2937 |\n",
       "+--------+----------------------+\n",
       "|      3 |               0.1502 |\n",
       "+--------+----------------------+\n",
       "|      4 |               0.0563 |\n",
       "+--------+----------------------+\n",
       "|      5 | 0.012899999999999998 |\n",
       "+--------+----------------------+\n",
       "|      6 |               0.0022 |\n",
       "+--------+----------------------+"
      ]
     },
     "execution_count": 209,
     "metadata": {},
     "output_type": "execute_result"
    }
   ],
   "source": [
    "pst.aggregate('lk_tds', sum, 'p_new').lookall()"
   ]
  },
  {
   "cell_type": "code",
   "execution_count": 231,
   "metadata": {
    "collapsed": true
   },
   "outputs": [],
   "source": [
    "def posterior_predictive(posterior, likelihoods):\n",
    "    pp = (\n",
    "        posterior\n",
    "        .join(likelihoods, key='bucket', lprefix='pr_', rprefix='lk_')\n",
    "        .addfield('p_new', lambda r: r['pr_p']*r['lk_p'])\n",
    "    )\n",
    "    tot = sum(pp['p_new'])\n",
    "    pp = pp.addfield('p_norm', lambda r: r['p_new']/tot)\n",
    "    pp = pp.cut(('lk_tds', 'p_norm'))\n",
    "    pp = pp.rename({'lk_tds': 'tds', 'p_norm': 'p'})\n",
    "    pp = pp.aggregate('tds', sum, 'p')\n",
    "    pp = pp.rename({'value': 'p'})\n",
    "    pp = pp.convert('p', lambda x: round(x,2))\n",
    "    return pp"
   ]
  },
  {
   "cell_type": "code",
   "execution_count": 241,
   "metadata": {},
   "outputs": [],
   "source": [
    "pp = posterior_predictive(prior, likelihoods)"
   ]
  },
  {
   "cell_type": "code",
   "execution_count": 244,
   "metadata": {},
   "outputs": [
    {
     "data": {
      "text/plain": [
       "+-----+------+\n",
       "| tds | p    |\n",
       "+=====+======+\n",
       "|   0 | 0.14 |\n",
       "+-----+------+\n",
       "|   1 | 0.33 |\n",
       "+-----+------+\n",
       "|   2 |  0.3 |\n",
       "+-----+------+\n",
       "|   3 | 0.15 |\n",
       "+-----+------+\n",
       "|   4 | 0.06 |\n",
       "+-----+------+\n",
       "|   5 | 0.01 |\n",
       "+-----+------+\n",
       "|   6 |  0.0 |\n",
       "+-----+------+"
      ]
     },
     "execution_count": 244,
     "metadata": {},
     "output_type": "execute_result"
    }
   ],
   "source": [
    "pp.lookall()"
   ]
  },
  {
   "cell_type": "code",
   "execution_count": 246,
   "metadata": {},
   "outputs": [
    {
     "data": {
      "text/plain": [
       "+--------+-----+------+\n",
       "| bucket | num | p    |\n",
       "+========+=====+======+\n",
       "|      1 |   3 | 0.03 |\n",
       "+--------+-----+------+\n",
       "|      2 |  24 | 0.27 |\n",
       "+--------+-----+------+\n",
       "|      3 |  39 | 0.43 |\n",
       "+--------+-----+------+\n",
       "|      4 |  20 | 0.22 |\n",
       "+--------+-----+------+\n",
       "|      5 |   4 | 0.04 |\n",
       "+--------+-----+------+"
      ]
     },
     "execution_count": 246,
     "metadata": {},
     "output_type": "execute_result"
    }
   ],
   "source": [
    "prior.lookall()"
   ]
  },
  {
   "cell_type": "code",
   "execution_count": 248,
   "metadata": {},
   "outputs": [],
   "source": [
    "from lombardi import bayes"
   ]
  },
  {
   "cell_type": "code",
   "execution_count": 249,
   "metadata": {},
   "outputs": [
    {
     "data": {
      "text/plain": [
       "+--------+-----+-----+------+\n",
       "| bucket | tds | num | p    |\n",
       "+========+=====+=====+======+\n",
       "|      1 |   0 |  21 | 0.44 |\n",
       "+--------+-----+-----+------+\n",
       "|      1 |   1 |  19 |  0.4 |\n",
       "+--------+-----+-----+------+\n",
       "|      1 |   2 |   6 | 0.12 |\n",
       "+--------+-----+-----+------+\n",
       "|      1 |   3 |   1 | 0.02 |\n",
       "+--------+-----+-----+------+\n",
       "|      1 |   4 |   1 | 0.02 |\n",
       "+--------+-----+-----+------+\n",
       "..."
      ]
     },
     "execution_count": 249,
     "metadata": {},
     "output_type": "execute_result"
    }
   ],
   "source": [
    "likelihoods.look()"
   ]
  },
  {
   "cell_type": "code",
   "execution_count": 369,
   "metadata": {},
   "outputs": [],
   "source": [
    "ld = dict()\n",
    "for b in set(likelihoods['bucket']):\n",
    "    \n",
    "    tmp = likelihoods.selecteq('bucket', b)\n",
    "    lk = petl.dicts(tmp.cut(('tds', 'p')))\n",
    "    ld[b] = {p['tds']:p['p'] for p in lk}"
   ]
  },
  {
   "cell_type": "code",
   "execution_count": 370,
   "metadata": {},
   "outputs": [],
   "source": [
    "ld = {k: bayes.Pdf(v) for k,v in ld.items()}"
   ]
  },
  {
   "cell_type": "code",
   "execution_count": 371,
   "metadata": {
    "collapsed": true
   },
   "outputs": [],
   "source": [
    "pd = bayes.Pdf({\n",
    "    1: 0.03,\n",
    "    2: 0.27,\n",
    "    3: 0.43,\n",
    "    4: 0.22,\n",
    "    5: 0.04,\n",
    "})"
   ]
  },
  {
   "cell_type": "code",
   "execution_count": 372,
   "metadata": {
    "collapsed": true
   },
   "outputs": [],
   "source": [
    "dist = bayes.DiscreteBayes(likelihoods=ld, prior=pd)"
   ]
  },
  {
   "cell_type": "code",
   "execution_count": 373,
   "metadata": {
    "collapsed": true
   },
   "outputs": [],
   "source": [
    "pps = dict()\n",
    "for i in range(5):\n",
    "    # simulate 5 5-touchdown games in a row\n",
    "    pps[i] = list(dist.posterior_predictive().probs.values())\n",
    "    dist.update_prior(5)"
   ]
  },
  {
   "cell_type": "code",
   "execution_count": 374,
   "metadata": {},
   "outputs": [
    {
     "data": {
      "text/plain": [
       "<matplotlib.legend.Legend at 0x1198d7320>"
      ]
     },
     "execution_count": 374,
     "metadata": {},
     "output_type": "execute_result"
    },
    {
     "data": {
      "image/png": "[encoded data removed]",
      "text/plain": [
       "<matplotlib.figure.Figure at 0x1198d7978>"
      ]
     },
     "metadata": {},
     "output_type": "display_data"
    }
   ],
   "source": [
    "for k,v in pps.items():\n",
    "    plt.plot(range(7), v, label=k)\n",
    "plt.legend()"
   ]
  },
  {
   "cell_type": "code",
   "execution_count": 346,
   "metadata": {
    "collapsed": true
   },
   "outputs": [],
   "source": [
    "pp = dist.posterior_predictive()"
   ]
  },
  {
   "cell_type": "code",
   "execution_count": 347,
   "metadata": {},
   "outputs": [
    {
     "data": {
      "text/plain": [
       "Pdf(probs={0: 0.14397799062563685, 1: 0.33095577746077043, 2: 0.2992663541878948, 3: 0.15304666802527, 4: 0.05736702669655594, 5: 0.01314448746688404, 6: 0.0022416955369879764})"
      ]
     },
     "execution_count": 347,
     "metadata": {},
     "output_type": "execute_result"
    }
   ],
   "source": [
    "pp"
   ]
  },
  {
   "cell_type": "code",
   "execution_count": 350,
   "metadata": {
    "collapsed": true
   },
   "outputs": [],
   "source": [
    "before = dist.posterior_predictive()"
   ]
  },
  {
   "cell_type": "code",
   "execution_count": 351,
   "metadata": {
    "collapsed": true
   },
   "outputs": [],
   "source": [
    "dist.update_prior(5)"
   ]
  },
  {
   "cell_type": "code",
   "execution_count": 352,
   "metadata": {
    "collapsed": true
   },
   "outputs": [],
   "source": [
    "after = dist.posterior_predictive()"
   ]
  },
  {
   "cell_type": "code",
   "execution_count": 357,
   "metadata": {},
   "outputs": [
    {
     "data": {
      "text/plain": [
       "<Container object of 7 artists>"
      ]
     },
     "execution_count": 357,
     "metadata": {},
     "output_type": "execute_result"
    },
    {
     "data": {
      "image/png": "[encoded data removed]",
      "text/plain": [
       "<matplotlib.figure.Figure at 0x119de39e8>"
      ]
     },
     "metadata": {},
     "output_type": "display_data"
    }
   ],
   "source": [
    "plt.bar(range(7), before.probs.values(), alpha=0.3)\n",
    "plt.bar(range(7), after.probs.values(), alpha=0.3)"
   ]
  },
  {
   "cell_type": "code",
   "execution_count": 362,
   "metadata": {},
   "outputs": [
    {
     "data": {
      "text/plain": [
       "<matplotlib.legend.Legend at 0x11b19bcc0>"
      ]
     },
     "execution_count": 362,
     "metadata": {},
     "output_type": "execute_result"
    },
    {
     "data": {
      "image/png": "[encoded data removed]",
      "text/plain": [
       "<matplotlib.figure.Figure at 0x119aa6e10>"
      ]
     },
     "metadata": {},
     "output_type": "display_data"
    }
   ],
   "source": [
    "plt.plot(range(7), list(before.probs.values()), label='before')\n",
    "plt.plot(range(7), list(after.probs.values()), label='after')\n",
    "plt.legend()"
   ]
  },
  {
   "cell_type": "code",
   "execution_count": 376,
   "metadata": {},
   "outputs": [],
   "source": [
    "expected_values = {k: sum(i*x for i,x in enumerate(v)) for k,v in pps.items()}"
   ]
  },
  {
   "cell_type": "code",
   "execution_count": 377,
   "metadata": {},
   "outputs": [
    {
     "data": {
      "text/plain": [
       "{0: 1.6972692072549418,\n",
       " 1: 2.1239534883720927,\n",
       " 2: 2.410983606557377,\n",
       " 3: 2.5591603053435117,\n",
       " 4: 2.6182194417709335}"
      ]
     },
     "execution_count": 377,
     "metadata": {},
     "output_type": "execute_result"
    }
   ],
   "source": [
    "expected_values"
   ]
  },
  {
   "cell_type": "code",
   "execution_count": null,
   "metadata": {
    "collapsed": true
   },
   "outputs": [],
   "source": [
    "\n",
    "\n",
    "pps = dict()\n",
    "for i in range(5):\n",
    "    # simulate 5 5-touchdown games in a row\n",
    "    pps[i] = list(dist.posterior_predictive().probs.values())\n",
    "    dist.update_prior(5)"
   ]
  }
 ],
 "metadata": {
  "kernelspec": {
   "display_name": "Python 3",
   "language": "python",
   "name": "python3"
  },
  "language_info": {
   "codemirror_mode": {
    "name": "ipython",
    "version": 3
   },
   "file_extension": ".py",
   "mimetype": "text/x-python",
   "name": "python",
   "nbconvert_exporter": "python",
   "pygments_lexer": "ipython3",
   "version": "3.6.1"
  }
 },
 "nbformat": 4,
 "nbformat_minor": 2
}
