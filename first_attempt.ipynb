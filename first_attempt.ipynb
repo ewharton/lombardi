{
 "cells": [
  {
   "cell_type": "markdown",
   "metadata": {},
   "source": [
    "# first attempt\n",
    "\n",
    "hypothesis: last 16 games should correlate to future performance.\n",
    "\n",
    "possible question to ask: given probability distribution based on last 16 games, a player falls into one of those probability buckets on his next game. what was the probability they would fall into that bucket?\n",
    "\n",
    "what does this attempt at solving though? if they fall into higher probability buckets more frequently, which will confirm my hypothesis.\n",
    "\n",
    "this is actually kind of difficult to even frame the question. we're not predicting anything. what if we compared cumulative versus 16 game performance and attempted to determine which was a better indicator of future performance?\n",
    "\n",
    "## comparing two models?\n",
    "\n",
    "event: DeMarco Murray rushing for 100-150 yards\n",
    "\n",
    "- model A predicted a 25% chance\n",
    "- model B predicted a 20% chance\n",
    "\n",
    "model A was a better predictor in this case, or was generally a better model.\n",
    "\n",
    "For each game, does model A or model B predict the values better?\n",
    "\n",
    "Then, can we run this for all previous *x* games to figure out how many games we should be looking at?\n",
    "\n",
    "Then, how fine-grained can we make the buckets?\n",
    "\n",
    "Then, are there certain weights we can apply to past performance that will improve the model?\n",
    "\n",
    "Then, bake in other parameters like expected value and variance?"
   ]
  },
  {
   "cell_type": "code",
   "execution_count": 71,
   "metadata": {
    "collapsed": false
   },
   "outputs": [
    {
     "name": "stdout",
     "output_type": "stream",
     "text": [
      "The autoreload extension is already loaded. To reload it, use:\n",
      "  %reload_ext autoreload\n"
     ]
    }
   ],
   "source": [
    "%load_ext autoreload\n",
    "%autoreload 2\n",
    "%matplotlib inline\n",
    "\n",
    "import matplotlib.pyplot as plt\n",
    "import numpy as np\n",
    "import pandas as pd\n",
    "\n",
    "import lombardi"
   ]
  },
  {
   "cell_type": "code",
   "execution_count": 72,
   "metadata": {
    "collapsed": true
   },
   "outputs": [],
   "source": [
    "player_data = lombardi.data.demo_players()"
   ]
  },
  {
   "cell_type": "code",
   "execution_count": null,
   "metadata": {
    "collapsed": false
   },
   "outputs": [
    {
     "name": "stdout",
     "output_type": "stream",
     "text": [
      "qb 25 Tom Brady\n",
      "qb 50 Tom Brady\n",
      "qb 25 Cam Newton\n",
      "qb 50 Cam Newton\n",
      "qb 25 Aaron Rodgers\n",
      "qb 50 Aaron Rodgers\n",
      "qb 25 Russell Wilson\n",
      "qb 50 Russell Wilson\n",
      "qb 25 Drew Brees\n",
      "qb"
     ]
    }
   ],
   "source": [
    "start_idx = 16\n",
    "bucket_sizes = {\n",
    "    'qb': [25, 50],\n",
    "    'rb': [10, 25, 50],\n",
    "    'wr': [10, 25, 50]\n",
    "}\n",
    "\n",
    "results = []\n",
    "for position, data in player_data.iteritems():\n",
    "    \n",
    "    metric = data['metric']\n",
    "    x = np.linspace(0, lombardi.data.metric_range(metric), 1000)\n",
    "    for player in data['players']:\n",
    "        \n",
    "        player_df = lombardi.data.player_df(player, metric)\n",
    "        performance = list(player_df[metric])\n",
    "        \n",
    "        for bucket_size in bucket_sizes[position]:\n",
    "        #for bucket_size in [50]:   \n",
    "            print position, bucket_size, player\n",
    "            \n",
    "            for week in range(start_idx, len(performance)):\n",
    "                \n",
    "                try:\n",
    "                    # get bucket limits\n",
    "                    yards = performance[week]\n",
    "                    y1 = yards - yards % bucket_size\n",
    "                    y2 = y1 + bucket_size\n",
    "\n",
    "                    samples = {\n",
    "                        'cumulative': performance[0:week],\n",
    "                        'running': performance[week-start_idx:week]\n",
    "                    }\n",
    "                    \n",
    "                    for sample_type, sample_data in samples.iteritems():\n",
    "                    \n",
    "                        # compute probability for sample\n",
    "                        x, cdf = lombardi.stats.cdf(x, sample_data)\n",
    "                        p_yards = lombardi.stats.probability_bucket(x, cdf, y1, y2)\n",
    "\n",
    "                        # save results\n",
    "                        results.append({\n",
    "                            'week': week,\n",
    "                            'sample': sample_type,\n",
    "                            'prob_yds': p_yards,\n",
    "                            'player': player,\n",
    "                            'metric': metric,\n",
    "                            'bucket_size': bucket_size,\n",
    "                            'position': position,\n",
    "                            'yards': yards,\n",
    "                        })\n",
    "                except Exception, e:\n",
    "                    print e"
   ]
  },
  {
   "cell_type": "code",
   "execution_count": 78,
   "metadata": {
    "collapsed": false
   },
   "outputs": [],
   "source": [
    "df = pd.DataFrame(results)"
   ]
  },
  {
   "cell_type": "code",
   "execution_count": 80,
   "metadata": {
    "collapsed": false
   },
   "outputs": [],
   "source": [
    "df.to_sql('bucket_results', lombardi.data.write_conn, index=False, if_exists='append')"
   ]
  },
  {
   "cell_type": "code",
   "execution_count": null,
   "metadata": {
    "collapsed": true
   },
   "outputs": [],
   "source": []
  }
 ],
 "metadata": {
  "kernelspec": {
   "display_name": "Python 2",
   "language": "python",
   "name": "python2"
  },
  "language_info": {
   "codemirror_mode": {
    "name": "ipython",
    "version": 2
   },
   "file_extension": ".py",
   "mimetype": "text/x-python",
   "name": "python",
   "nbconvert_exporter": "python",
   "pygments_lexer": "ipython2",
   "version": "2.7.10"
  }
 },
 "nbformat": 4,
 "nbformat_minor": 0
}
