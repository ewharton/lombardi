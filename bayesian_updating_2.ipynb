{
 "cells": [
  {
   "cell_type": "code",
   "execution_count": 18,
   "metadata": {
    "collapsed": true
   },
   "outputs": [],
   "source": [
    "import random"
   ]
  },
  {
   "cell_type": "code",
   "execution_count": 19,
   "metadata": {
    "collapsed": true
   },
   "outputs": [],
   "source": [
    "real_dist = {\n",
    "    'a': 0.25,\n",
    "    'b': 0.45,\n",
    "    'c': 0.25,\n",
    "    'd': 0.05,\n",
    "}\n",
    "\n",
    "uninformed = {\n",
    "    'a': 0.25,\n",
    "    'b': 0.25,\n",
    "    'c': 0.25,\n",
    "    'd': 0.25,\n",
    "}\n",
    "\n",
    "\n",
    "\n",
    "distributions = {\n",
    "    'alpha': {\n",
    "        'a': 0.2,\n",
    "        'b': 0.4,\n",
    "        'c': 0.3,\n",
    "        'd': 0.1,\n",
    "    },\n",
    "    'beta': {\n",
    "        'a': 0.4,\n",
    "        'b': 0.3,\n",
    "        'c': 0.2,\n",
    "        'd': 0.1,\n",
    "    },\n",
    "    'gamma': {\n",
    "        'a': 0.1,\n",
    "        'b': 0.2,\n",
    "        'c': 0.3,\n",
    "        'd': 0.4,\n",
    "    },\n",
    "    'delta': {\n",
    "        'a': 0.1,\n",
    "        'b': 0.3,\n",
    "        'c': 0.4,\n",
    "        'd': 0.2,\n",
    "    }\n",
    "}\n",
    "\n",
    "player_type_distributions = {\n",
    "    'alpha': 0.3,\n",
    "    'beta': 0.4,\n",
    "    'gamma': 0.1,\n",
    "    'delta': 0.2,\n",
    "}\n"
   ]
  },
  {
   "cell_type": "code",
   "execution_count": 20,
   "metadata": {
    "collapsed": true
   },
   "outputs": [],
   "source": [
    "def run_event(distribution):\n",
    "    r = random.uniform(0,1)\n",
    "    running_prob = 0\n",
    "    for result, prob in distribution.iteritems():\n",
    "        running_prob += prob\n",
    "        if r < running_prob:\n",
    "            return result\n",
    "\n",
    "\n",
    "def play_game(player_type):\n",
    "    return run_event(distributions[player_type])\n",
    "\n",
    "\n",
    "def pick_random_player():\n",
    "    return run_event(player_type_distributions)\n",
    "\n",
    "\n",
    "def update_prior(prior, result, likelihood):\n",
    "    \n",
    "    unweighted_prior = {k: likelihood[k]*prior[k] for k in prior.keys()}\n",
    "    \n",
    "    return {\n",
    "        k: v/sum(unweighted_prior.values())\n",
    "        for k,v in unweighted_prior.iteritems()\n",
    "    }"
   ]
  },
  {
   "cell_type": "code",
   "execution_count": 21,
   "metadata": {
    "collapsed": false
   },
   "outputs": [
    {
     "name": "stdout",
     "output_type": "stream",
     "text": [
      "{'a': 7.888609052207588e-31, 'c': 3.207202185380445e-13, 'b': 0.9999999999996793, 'd': 6.223015277859146e-61}\n"
     ]
    }
   ],
   "source": [
    "prior = uninformed_prior\n",
    "for i in range(100):\n",
    "    result = run_event(real_dist)\n",
    "    prior = update_prior(prior, result, distributions['alpha'])\n",
    "    #print result, prior\n",
    "print prior"
   ]
  },
  {
   "cell_type": "code",
   "execution_count": null,
   "metadata": {
    "collapsed": true
   },
   "outputs": [],
   "source": []
  }
 ],
 "metadata": {
  "kernelspec": {
   "display_name": "Python 2",
   "language": "python",
   "name": "python2"
  },
  "language_info": {
   "codemirror_mode": {
    "name": "ipython",
    "version": 2
   },
   "file_extension": ".py",
   "mimetype": "text/x-python",
   "name": "python",
   "nbconvert_exporter": "python",
   "pygments_lexer": "ipython2",
   "version": "2.7.10"
  }
 },
 "nbformat": 4,
 "nbformat_minor": 0
}
